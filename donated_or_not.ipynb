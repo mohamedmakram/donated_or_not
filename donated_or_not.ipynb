{
  "cells": [
    {
      "cell_type": "markdown",
      "source": [
        "#### What is the experimental protocol used and how was it carried out?\n",
        "\n",
        "*   load data into my workspace then understand its structure .\n",
        "*   Dataset contains masked data and target varianbe, donation (donate or not)   \n",
        "\n",
        "#### Approach:\n",
        "\n",
        "*   found a way to simplify masked data to much smaller categories that represent the dataset and don't a lot of information\n",
        "*   then encode these data to format that would be ready to train on. Splitting data to train and test\n",
        "*   finally evaluate the model\n",
        "\n",
        "\n",
        "### Problem Formulation\n",
        "I tried to predict donation(classification problem) \n",
        "\n",
        "input: masked data\n",
        "\n",
        "output: predict Donation\n",
        "\n",
        "Data Mining function: extract features from Masked data.\n",
        "\n",
        "Challenges: I tried to convert all masked data to categorical because I thought that numerical/Continuous data would not be reasonable to have.\n",
        "\n",
        "\n",
        "the impact: these problem can bias the model or make it really slow\n",
        "\n",
        "ideal solution: if the dataset have numersical values in features like age and years of experience because they can be a game change ."
      ],
      "metadata": {
        "id": "hivJ291apQTC"
      }
    },
    {
      "cell_type": "code",
      "source": [
        "# import libraries\n",
        "import pandas as pd\n",
        "import matplotlib.pyplot as plt\n",
        "import plotly.express as px\n",
        "from sklearn.model_selection import train_test_split\n",
        "from xgboost import XGBClassifier\n",
        "from sklearn.metrics import f1_score, confusion_matrix\n",
        "import seaborn as sns"
      ],
      "metadata": {
        "id": "WNatweRB_39C"
      },
      "execution_count": 33,
      "outputs": []
    },
    {
      "cell_type": "code",
      "source": [
        "# read Dataset\n",
        "df = pd.read_excel('task for data scientist.xlsx')\n",
        "df.head()"
      ],
      "metadata": {
        "colab": {
          "base_uri": "https://localhost:8080/",
          "height": 299
        },
        "id": "VzGGe1WGAfxU",
        "outputId": "9532d05d-75b9-4544-e626-2ad68f8dd946"
      },
      "execution_count": 2,
      "outputs": [
        {
          "output_type": "execute_result",
          "data": {
            "text/plain": [
              "                                                name  \\\n",
              "0  f71069a5840386c6ece104de3f2bafc3ecb1ff37f1bc64...   \n",
              "1  f7e645ca1739c318ae12efa6767cf1e7f38accd55c238c...   \n",
              "2  7a2987f600f343f47c4bd9c1bb704db28517da1e814f95...   \n",
              "3  e1eb1c05e9cd661690a5eca2566f93ff0a6146bd91025b...   \n",
              "4  8e741abe8c2cdee489ce0b8c7fc3a87e726e66c858bed5...   \n",
              "\n",
              "                                            location  \\\n",
              "0  99406be6f8f8044366aef3271ac4109d0538df39276e9e...   \n",
              "1  9b2d5b4678781e53038e91ea5324530a03f27dc1d0e5f6...   \n",
              "2  ca9f6563c7614c5ef5f033c9aaa1aa21611412da771a91...   \n",
              "3  9b2d5b4678781e53038e91ea5324530a03f27dc1d0e5f6...   \n",
              "4  ca9f6563c7614c5ef5f033c9aaa1aa21611412da771a91...   \n",
              "\n",
              "                                     latest_position  \\\n",
              "0  cb3e421b1d1c2c3448f323268f972ee3b2a54cc1021bf4...   \n",
              "1  9b2d5b4678781e53038e91ea5324530a03f27dc1d0e5f6...   \n",
              "2  27e1c95e64999f594001f3b8fada27406bb96ae8adfded...   \n",
              "3  4e07408562bedb8b60ce05c1decfe3ad16b72230967de0...   \n",
              "4  81c6d629bbd7d564ab1374d5ef6b4e9af65f40b4d31125...   \n",
              "\n",
              "                                     current_company  \\\n",
              "0  3a14097e562c77b201d23978b706f07e52133506bf5902...   \n",
              "1  9b2d5b4678781e53038e91ea5324530a03f27dc1d0e5f6...   \n",
              "2  78df16cdd1a174c6372267773cf96fc1e7bbcc40a0e935...   \n",
              "3  be683e560cde64bff281f929cab1c6588dc9b7057d3cbf...   \n",
              "4  10f7357c2ee065df558a8d7c8980b368a790514f040e27...   \n",
              "\n",
              "                                    latest_edu_place  \\\n",
              "0  dc937b59892604f5a86ac96936cd7ff09e25f18ae6b758...   \n",
              "1  dc937b59892604f5a86ac96936cd7ff09e25f18ae6b758...   \n",
              "2  9b2d5b4678781e53038e91ea5324530a03f27dc1d0e5f6...   \n",
              "3  dc937b59892604f5a86ac96936cd7ff09e25f18ae6b758...   \n",
              "4  c111feb812f1a7ed9465aa238c13897c77ad0b4f4898a8...   \n",
              "\n",
              "                                     latest_edu_qual  \\\n",
              "0  dc937b59892604f5a86ac96936cd7ff09e25f18ae6b758...   \n",
              "1  dc937b59892604f5a86ac96936cd7ff09e25f18ae6b758...   \n",
              "2  9b2d5b4678781e53038e91ea5324530a03f27dc1d0e5f6...   \n",
              "3  dc937b59892604f5a86ac96936cd7ff09e25f18ae6b758...   \n",
              "4  b0a088422375d451e34aa118a4b44e31d02c6236e108da...   \n",
              "\n",
              "                                             yrs_exp  \\\n",
              "0  dc937b59892604f5a86ac96936cd7ff09e25f18ae6b758...   \n",
              "1  dc937b59892604f5a86ac96936cd7ff09e25f18ae6b758...   \n",
              "2  eb1e33e8a81b697b75855af6bfcdbcbf7cbbde9f94962c...   \n",
              "3  dc937b59892604f5a86ac96936cd7ff09e25f18ae6b758...   \n",
              "4  b17ef6d19c7a5b1ee83b907c595526dcb1eb06db8227d6...   \n",
              "\n",
              "                                      volunteer_flag  \\\n",
              "0  8ce86a6ae65d3692e7305e2c58ac62eebd97d3d943e093...   \n",
              "1  8ce86a6ae65d3692e7305e2c58ac62eebd97d3d943e093...   \n",
              "2  8ce86a6ae65d3692e7305e2c58ac62eebd97d3d943e093...   \n",
              "3  8ce86a6ae65d3692e7305e2c58ac62eebd97d3d943e093...   \n",
              "4  8ce86a6ae65d3692e7305e2c58ac62eebd97d3d943e093...   \n",
              "\n",
              "                                       children_flag  \\\n",
              "0  8ce86a6ae65d3692e7305e2c58ac62eebd97d3d943e093...   \n",
              "1  8ce86a6ae65d3692e7305e2c58ac62eebd97d3d943e093...   \n",
              "2  8ce86a6ae65d3692e7305e2c58ac62eebd97d3d943e093...   \n",
              "3  8ce86a6ae65d3692e7305e2c58ac62eebd97d3d943e093...   \n",
              "4  8ce86a6ae65d3692e7305e2c58ac62eebd97d3d943e093...   \n",
              "\n",
              "                                                 Age  ...  \\\n",
              "0  e15274dcfe2d0cb541e8aa23fef7aaaa116bfcbc937d35...  ...   \n",
              "1  b690285b6e60662df771bc7a6b6ee1cb13f799e3d902ec...  ...   \n",
              "2  8aed642bf5118b9d3c859bd4be35ecac75b6e873cce34e...  ...   \n",
              "3  3883138a87732955cea4ec542b22ef82c5342262ca1dab...  ...   \n",
              "4  e15274dcfe2d0cb541e8aa23fef7aaaa116bfcbc937d35...  ...   \n",
              "\n",
              "                                          Is Student  \\\n",
              "0  8aed642bf5118b9d3c859bd4be35ecac75b6e873cce34e...   \n",
              "1  8aed642bf5118b9d3c859bd4be35ecac75b6e873cce34e...   \n",
              "2  8aed642bf5118b9d3c859bd4be35ecac75b6e873cce34e...   \n",
              "3  8aed642bf5118b9d3c859bd4be35ecac75b6e873cce34e...   \n",
              "4  8aed642bf5118b9d3c859bd4be35ecac75b6e873cce34e...   \n",
              "\n",
              "                                           Is Parent  \\\n",
              "0  8aed642bf5118b9d3c859bd4be35ecac75b6e873cce34e...   \n",
              "1  8aed642bf5118b9d3c859bd4be35ecac75b6e873cce34e...   \n",
              "2  8aed642bf5118b9d3c859bd4be35ecac75b6e873cce34e...   \n",
              "3  8aed642bf5118b9d3c859bd4be35ecac75b6e873cce34e...   \n",
              "4  8aed642bf5118b9d3c859bd4be35ecac75b6e873cce34e...   \n",
              "\n",
              "                                  IsAddressAvailable  \\\n",
              "0  d0ff5974b6aa52cf562bea5921840c032a860a91a3512f...   \n",
              "1  d0ff5974b6aa52cf562bea5921840c032a860a91a3512f...   \n",
              "2  d0ff5974b6aa52cf562bea5921840c032a860a91a3512f...   \n",
              "3  d0ff5974b6aa52cf562bea5921840c032a860a91a3512f...   \n",
              "4  d0ff5974b6aa52cf562bea5921840c032a860a91a3512f...   \n",
              "\n",
              "                                    IsEmailAvailable  \\\n",
              "0  d0ff5974b6aa52cf562bea5921840c032a860a91a3512f...   \n",
              "1  d0ff5974b6aa52cf562bea5921840c032a860a91a3512f...   \n",
              "2  8aed642bf5118b9d3c859bd4be35ecac75b6e873cce34e...   \n",
              "3  d0ff5974b6aa52cf562bea5921840c032a860a91a3512f...   \n",
              "4  d0ff5974b6aa52cf562bea5921840c032a860a91a3512f...   \n",
              "\n",
              "                                    IsPhoneAvailable  \\\n",
              "0  d0ff5974b6aa52cf562bea5921840c032a860a91a3512f...   \n",
              "1  d0ff5974b6aa52cf562bea5921840c032a860a91a3512f...   \n",
              "2  d0ff5974b6aa52cf562bea5921840c032a860a91a3512f...   \n",
              "3  d0ff5974b6aa52cf562bea5921840c032a860a91a3512f...   \n",
              "4  d0ff5974b6aa52cf562bea5921840c032a860a91a3512f...   \n",
              "\n",
              "                                            District  \\\n",
              "0  c22cd1ea7268eed0a17f08b05559b6f7939040cf707d5a...   \n",
              "1  8aed642bf5118b9d3c859bd4be35ecac75b6e873cce34e...   \n",
              "2  8ab31b5afaea56114427e1f01b81d001b079a0f59539f6...   \n",
              "3  c72ae9676454d7cc0014583a9d0a2e28553d5c62f087c7...   \n",
              "4  3884d73b84f2e88d36a540aa9587c500a76922cf48463d...   \n",
              "\n",
              "                        Marital status_label_encoded  \\\n",
              "0  a416ea84421fa7e1351582da48235bac88380a337ec5cb...   \n",
              "1  d0ff5974b6aa52cf562bea5921840c032a860a91a3512f...   \n",
              "2  d0ff5974b6aa52cf562bea5921840c032a860a91a3512f...   \n",
              "3  a416ea84421fa7e1351582da48235bac88380a337ec5cb...   \n",
              "4  a416ea84421fa7e1351582da48235bac88380a337ec5cb...   \n",
              "\n",
              "                                Gender_label_encoded  \\\n",
              "0  d0ff5974b6aa52cf562bea5921840c032a860a91a3512f...   \n",
              "1  d0ff5974b6aa52cf562bea5921840c032a860a91a3512f...   \n",
              "2  8aed642bf5118b9d3c859bd4be35ecac75b6e873cce34e...   \n",
              "3  d0ff5974b6aa52cf562bea5921840c032a860a91a3512f...   \n",
              "4  d0ff5974b6aa52cf562bea5921840c032a860a91a3512f...   \n",
              "\n",
              "                           Nationality_label_encoded donor_or_not  \n",
              "0  52ebab80b30e4922e932f30f2dd0de3a66dfccdc96c921...          1.0  \n",
              "1  26c9a96ce053a14dd88a71a4830c9cbed7e1fed7e3f3f8...          1.0  \n",
              "2  648e5bca018ffe4b6db96361d9b1a5245ee72d27e49269...          1.0  \n",
              "3  1f4d86b1e0415f97659988ec13c7753c4bffc5f95d373c...          1.0  \n",
              "4  1f4d86b1e0415f97659988ec13c7753c4bffc5f95d373c...          1.0  \n",
              "\n",
              "[5 rows x 27 columns]"
            ],
            "text/html": [
              "\n",
              "  <div id=\"df-3cd188dc-0a38-4b86-9a38-00559eee88ba\">\n",
              "    <div class=\"colab-df-container\">\n",
              "      <div>\n",
              "<style scoped>\n",
              "    .dataframe tbody tr th:only-of-type {\n",
              "        vertical-align: middle;\n",
              "    }\n",
              "\n",
              "    .dataframe tbody tr th {\n",
              "        vertical-align: top;\n",
              "    }\n",
              "\n",
              "    .dataframe thead th {\n",
              "        text-align: right;\n",
              "    }\n",
              "</style>\n",
              "<table border=\"1\" class=\"dataframe\">\n",
              "  <thead>\n",
              "    <tr style=\"text-align: right;\">\n",
              "      <th></th>\n",
              "      <th>name</th>\n",
              "      <th>location</th>\n",
              "      <th>latest_position</th>\n",
              "      <th>current_company</th>\n",
              "      <th>latest_edu_place</th>\n",
              "      <th>latest_edu_qual</th>\n",
              "      <th>yrs_exp</th>\n",
              "      <th>volunteer_flag</th>\n",
              "      <th>children_flag</th>\n",
              "      <th>Age</th>\n",
              "      <th>...</th>\n",
              "      <th>Is Student</th>\n",
              "      <th>Is Parent</th>\n",
              "      <th>IsAddressAvailable</th>\n",
              "      <th>IsEmailAvailable</th>\n",
              "      <th>IsPhoneAvailable</th>\n",
              "      <th>District</th>\n",
              "      <th>Marital status_label_encoded</th>\n",
              "      <th>Gender_label_encoded</th>\n",
              "      <th>Nationality_label_encoded</th>\n",
              "      <th>donor_or_not</th>\n",
              "    </tr>\n",
              "  </thead>\n",
              "  <tbody>\n",
              "    <tr>\n",
              "      <th>0</th>\n",
              "      <td>f71069a5840386c6ece104de3f2bafc3ecb1ff37f1bc64...</td>\n",
              "      <td>99406be6f8f8044366aef3271ac4109d0538df39276e9e...</td>\n",
              "      <td>cb3e421b1d1c2c3448f323268f972ee3b2a54cc1021bf4...</td>\n",
              "      <td>3a14097e562c77b201d23978b706f07e52133506bf5902...</td>\n",
              "      <td>dc937b59892604f5a86ac96936cd7ff09e25f18ae6b758...</td>\n",
              "      <td>dc937b59892604f5a86ac96936cd7ff09e25f18ae6b758...</td>\n",
              "      <td>dc937b59892604f5a86ac96936cd7ff09e25f18ae6b758...</td>\n",
              "      <td>8ce86a6ae65d3692e7305e2c58ac62eebd97d3d943e093...</td>\n",
              "      <td>8ce86a6ae65d3692e7305e2c58ac62eebd97d3d943e093...</td>\n",
              "      <td>e15274dcfe2d0cb541e8aa23fef7aaaa116bfcbc937d35...</td>\n",
              "      <td>...</td>\n",
              "      <td>8aed642bf5118b9d3c859bd4be35ecac75b6e873cce34e...</td>\n",
              "      <td>8aed642bf5118b9d3c859bd4be35ecac75b6e873cce34e...</td>\n",
              "      <td>d0ff5974b6aa52cf562bea5921840c032a860a91a3512f...</td>\n",
              "      <td>d0ff5974b6aa52cf562bea5921840c032a860a91a3512f...</td>\n",
              "      <td>d0ff5974b6aa52cf562bea5921840c032a860a91a3512f...</td>\n",
              "      <td>c22cd1ea7268eed0a17f08b05559b6f7939040cf707d5a...</td>\n",
              "      <td>a416ea84421fa7e1351582da48235bac88380a337ec5cb...</td>\n",
              "      <td>d0ff5974b6aa52cf562bea5921840c032a860a91a3512f...</td>\n",
              "      <td>52ebab80b30e4922e932f30f2dd0de3a66dfccdc96c921...</td>\n",
              "      <td>1.0</td>\n",
              "    </tr>\n",
              "    <tr>\n",
              "      <th>1</th>\n",
              "      <td>f7e645ca1739c318ae12efa6767cf1e7f38accd55c238c...</td>\n",
              "      <td>9b2d5b4678781e53038e91ea5324530a03f27dc1d0e5f6...</td>\n",
              "      <td>9b2d5b4678781e53038e91ea5324530a03f27dc1d0e5f6...</td>\n",
              "      <td>9b2d5b4678781e53038e91ea5324530a03f27dc1d0e5f6...</td>\n",
              "      <td>dc937b59892604f5a86ac96936cd7ff09e25f18ae6b758...</td>\n",
              "      <td>dc937b59892604f5a86ac96936cd7ff09e25f18ae6b758...</td>\n",
              "      <td>dc937b59892604f5a86ac96936cd7ff09e25f18ae6b758...</td>\n",
              "      <td>8ce86a6ae65d3692e7305e2c58ac62eebd97d3d943e093...</td>\n",
              "      <td>8ce86a6ae65d3692e7305e2c58ac62eebd97d3d943e093...</td>\n",
              "      <td>b690285b6e60662df771bc7a6b6ee1cb13f799e3d902ec...</td>\n",
              "      <td>...</td>\n",
              "      <td>8aed642bf5118b9d3c859bd4be35ecac75b6e873cce34e...</td>\n",
              "      <td>8aed642bf5118b9d3c859bd4be35ecac75b6e873cce34e...</td>\n",
              "      <td>d0ff5974b6aa52cf562bea5921840c032a860a91a3512f...</td>\n",
              "      <td>d0ff5974b6aa52cf562bea5921840c032a860a91a3512f...</td>\n",
              "      <td>d0ff5974b6aa52cf562bea5921840c032a860a91a3512f...</td>\n",
              "      <td>8aed642bf5118b9d3c859bd4be35ecac75b6e873cce34e...</td>\n",
              "      <td>d0ff5974b6aa52cf562bea5921840c032a860a91a3512f...</td>\n",
              "      <td>d0ff5974b6aa52cf562bea5921840c032a860a91a3512f...</td>\n",
              "      <td>26c9a96ce053a14dd88a71a4830c9cbed7e1fed7e3f3f8...</td>\n",
              "      <td>1.0</td>\n",
              "    </tr>\n",
              "    <tr>\n",
              "      <th>2</th>\n",
              "      <td>7a2987f600f343f47c4bd9c1bb704db28517da1e814f95...</td>\n",
              "      <td>ca9f6563c7614c5ef5f033c9aaa1aa21611412da771a91...</td>\n",
              "      <td>27e1c95e64999f594001f3b8fada27406bb96ae8adfded...</td>\n",
              "      <td>78df16cdd1a174c6372267773cf96fc1e7bbcc40a0e935...</td>\n",
              "      <td>9b2d5b4678781e53038e91ea5324530a03f27dc1d0e5f6...</td>\n",
              "      <td>9b2d5b4678781e53038e91ea5324530a03f27dc1d0e5f6...</td>\n",
              "      <td>eb1e33e8a81b697b75855af6bfcdbcbf7cbbde9f94962c...</td>\n",
              "      <td>8ce86a6ae65d3692e7305e2c58ac62eebd97d3d943e093...</td>\n",
              "      <td>8ce86a6ae65d3692e7305e2c58ac62eebd97d3d943e093...</td>\n",
              "      <td>8aed642bf5118b9d3c859bd4be35ecac75b6e873cce34e...</td>\n",
              "      <td>...</td>\n",
              "      <td>8aed642bf5118b9d3c859bd4be35ecac75b6e873cce34e...</td>\n",
              "      <td>8aed642bf5118b9d3c859bd4be35ecac75b6e873cce34e...</td>\n",
              "      <td>d0ff5974b6aa52cf562bea5921840c032a860a91a3512f...</td>\n",
              "      <td>8aed642bf5118b9d3c859bd4be35ecac75b6e873cce34e...</td>\n",
              "      <td>d0ff5974b6aa52cf562bea5921840c032a860a91a3512f...</td>\n",
              "      <td>8ab31b5afaea56114427e1f01b81d001b079a0f59539f6...</td>\n",
              "      <td>d0ff5974b6aa52cf562bea5921840c032a860a91a3512f...</td>\n",
              "      <td>8aed642bf5118b9d3c859bd4be35ecac75b6e873cce34e...</td>\n",
              "      <td>648e5bca018ffe4b6db96361d9b1a5245ee72d27e49269...</td>\n",
              "      <td>1.0</td>\n",
              "    </tr>\n",
              "    <tr>\n",
              "      <th>3</th>\n",
              "      <td>e1eb1c05e9cd661690a5eca2566f93ff0a6146bd91025b...</td>\n",
              "      <td>9b2d5b4678781e53038e91ea5324530a03f27dc1d0e5f6...</td>\n",
              "      <td>4e07408562bedb8b60ce05c1decfe3ad16b72230967de0...</td>\n",
              "      <td>be683e560cde64bff281f929cab1c6588dc9b7057d3cbf...</td>\n",
              "      <td>dc937b59892604f5a86ac96936cd7ff09e25f18ae6b758...</td>\n",
              "      <td>dc937b59892604f5a86ac96936cd7ff09e25f18ae6b758...</td>\n",
              "      <td>dc937b59892604f5a86ac96936cd7ff09e25f18ae6b758...</td>\n",
              "      <td>8ce86a6ae65d3692e7305e2c58ac62eebd97d3d943e093...</td>\n",
              "      <td>8ce86a6ae65d3692e7305e2c58ac62eebd97d3d943e093...</td>\n",
              "      <td>3883138a87732955cea4ec542b22ef82c5342262ca1dab...</td>\n",
              "      <td>...</td>\n",
              "      <td>8aed642bf5118b9d3c859bd4be35ecac75b6e873cce34e...</td>\n",
              "      <td>8aed642bf5118b9d3c859bd4be35ecac75b6e873cce34e...</td>\n",
              "      <td>d0ff5974b6aa52cf562bea5921840c032a860a91a3512f...</td>\n",
              "      <td>d0ff5974b6aa52cf562bea5921840c032a860a91a3512f...</td>\n",
              "      <td>d0ff5974b6aa52cf562bea5921840c032a860a91a3512f...</td>\n",
              "      <td>c72ae9676454d7cc0014583a9d0a2e28553d5c62f087c7...</td>\n",
              "      <td>a416ea84421fa7e1351582da48235bac88380a337ec5cb...</td>\n",
              "      <td>d0ff5974b6aa52cf562bea5921840c032a860a91a3512f...</td>\n",
              "      <td>1f4d86b1e0415f97659988ec13c7753c4bffc5f95d373c...</td>\n",
              "      <td>1.0</td>\n",
              "    </tr>\n",
              "    <tr>\n",
              "      <th>4</th>\n",
              "      <td>8e741abe8c2cdee489ce0b8c7fc3a87e726e66c858bed5...</td>\n",
              "      <td>ca9f6563c7614c5ef5f033c9aaa1aa21611412da771a91...</td>\n",
              "      <td>81c6d629bbd7d564ab1374d5ef6b4e9af65f40b4d31125...</td>\n",
              "      <td>10f7357c2ee065df558a8d7c8980b368a790514f040e27...</td>\n",
              "      <td>c111feb812f1a7ed9465aa238c13897c77ad0b4f4898a8...</td>\n",
              "      <td>b0a088422375d451e34aa118a4b44e31d02c6236e108da...</td>\n",
              "      <td>b17ef6d19c7a5b1ee83b907c595526dcb1eb06db8227d6...</td>\n",
              "      <td>8ce86a6ae65d3692e7305e2c58ac62eebd97d3d943e093...</td>\n",
              "      <td>8ce86a6ae65d3692e7305e2c58ac62eebd97d3d943e093...</td>\n",
              "      <td>e15274dcfe2d0cb541e8aa23fef7aaaa116bfcbc937d35...</td>\n",
              "      <td>...</td>\n",
              "      <td>8aed642bf5118b9d3c859bd4be35ecac75b6e873cce34e...</td>\n",
              "      <td>8aed642bf5118b9d3c859bd4be35ecac75b6e873cce34e...</td>\n",
              "      <td>d0ff5974b6aa52cf562bea5921840c032a860a91a3512f...</td>\n",
              "      <td>d0ff5974b6aa52cf562bea5921840c032a860a91a3512f...</td>\n",
              "      <td>d0ff5974b6aa52cf562bea5921840c032a860a91a3512f...</td>\n",
              "      <td>3884d73b84f2e88d36a540aa9587c500a76922cf48463d...</td>\n",
              "      <td>a416ea84421fa7e1351582da48235bac88380a337ec5cb...</td>\n",
              "      <td>d0ff5974b6aa52cf562bea5921840c032a860a91a3512f...</td>\n",
              "      <td>1f4d86b1e0415f97659988ec13c7753c4bffc5f95d373c...</td>\n",
              "      <td>1.0</td>\n",
              "    </tr>\n",
              "  </tbody>\n",
              "</table>\n",
              "<p>5 rows × 27 columns</p>\n",
              "</div>\n",
              "      <button class=\"colab-df-convert\" onclick=\"convertToInteractive('df-3cd188dc-0a38-4b86-9a38-00559eee88ba')\"\n",
              "              title=\"Convert this dataframe to an interactive table.\"\n",
              "              style=\"display:none;\">\n",
              "        \n",
              "  <svg xmlns=\"http://www.w3.org/2000/svg\" height=\"24px\"viewBox=\"0 0 24 24\"\n",
              "       width=\"24px\">\n",
              "    <path d=\"M0 0h24v24H0V0z\" fill=\"none\"/>\n",
              "    <path d=\"M18.56 5.44l.94 2.06.94-2.06 2.06-.94-2.06-.94-.94-2.06-.94 2.06-2.06.94zm-11 1L8.5 8.5l.94-2.06 2.06-.94-2.06-.94L8.5 2.5l-.94 2.06-2.06.94zm10 10l.94 2.06.94-2.06 2.06-.94-2.06-.94-.94-2.06-.94 2.06-2.06.94z\"/><path d=\"M17.41 7.96l-1.37-1.37c-.4-.4-.92-.59-1.43-.59-.52 0-1.04.2-1.43.59L10.3 9.45l-7.72 7.72c-.78.78-.78 2.05 0 2.83L4 21.41c.39.39.9.59 1.41.59.51 0 1.02-.2 1.41-.59l7.78-7.78 2.81-2.81c.8-.78.8-2.07 0-2.86zM5.41 20L4 18.59l7.72-7.72 1.47 1.35L5.41 20z\"/>\n",
              "  </svg>\n",
              "      </button>\n",
              "      \n",
              "  <style>\n",
              "    .colab-df-container {\n",
              "      display:flex;\n",
              "      flex-wrap:wrap;\n",
              "      gap: 12px;\n",
              "    }\n",
              "\n",
              "    .colab-df-convert {\n",
              "      background-color: #E8F0FE;\n",
              "      border: none;\n",
              "      border-radius: 50%;\n",
              "      cursor: pointer;\n",
              "      display: none;\n",
              "      fill: #1967D2;\n",
              "      height: 32px;\n",
              "      padding: 0 0 0 0;\n",
              "      width: 32px;\n",
              "    }\n",
              "\n",
              "    .colab-df-convert:hover {\n",
              "      background-color: #E2EBFA;\n",
              "      box-shadow: 0px 1px 2px rgba(60, 64, 67, 0.3), 0px 1px 3px 1px rgba(60, 64, 67, 0.15);\n",
              "      fill: #174EA6;\n",
              "    }\n",
              "\n",
              "    [theme=dark] .colab-df-convert {\n",
              "      background-color: #3B4455;\n",
              "      fill: #D2E3FC;\n",
              "    }\n",
              "\n",
              "    [theme=dark] .colab-df-convert:hover {\n",
              "      background-color: #434B5C;\n",
              "      box-shadow: 0px 1px 3px 1px rgba(0, 0, 0, 0.15);\n",
              "      filter: drop-shadow(0px 1px 2px rgba(0, 0, 0, 0.3));\n",
              "      fill: #FFFFFF;\n",
              "    }\n",
              "  </style>\n",
              "\n",
              "      <script>\n",
              "        const buttonEl =\n",
              "          document.querySelector('#df-3cd188dc-0a38-4b86-9a38-00559eee88ba button.colab-df-convert');\n",
              "        buttonEl.style.display =\n",
              "          google.colab.kernel.accessAllowed ? 'block' : 'none';\n",
              "\n",
              "        async function convertToInteractive(key) {\n",
              "          const element = document.querySelector('#df-3cd188dc-0a38-4b86-9a38-00559eee88ba');\n",
              "          const dataTable =\n",
              "            await google.colab.kernel.invokeFunction('convertToInteractive',\n",
              "                                                     [key], {});\n",
              "          if (!dataTable) return;\n",
              "\n",
              "          const docLinkHtml = 'Like what you see? Visit the ' +\n",
              "            '<a target=\"_blank\" href=https://colab.research.google.com/notebooks/data_table.ipynb>data table notebook</a>'\n",
              "            + ' to learn more about interactive tables.';\n",
              "          element.innerHTML = '';\n",
              "          dataTable['output_type'] = 'display_data';\n",
              "          await google.colab.output.renderOutput(dataTable, element);\n",
              "          const docLink = document.createElement('div');\n",
              "          docLink.innerHTML = docLinkHtml;\n",
              "          element.appendChild(docLink);\n",
              "        }\n",
              "      </script>\n",
              "    </div>\n",
              "  </div>\n",
              "  "
            ]
          },
          "metadata": {},
          "execution_count": 2
        }
      ]
    },
    {
      "cell_type": "markdown",
      "source": [
        "## EDA"
      ],
      "metadata": {
        "id": "sVTnQi_hkIWd"
      }
    },
    {
      "cell_type": "code",
      "source": [
        "df.shape"
      ],
      "metadata": {
        "colab": {
          "base_uri": "https://localhost:8080/"
        },
        "id": "k4XBbq42Cw23",
        "outputId": "75a16fb8-939a-4183-e315-b1ef13008496"
      },
      "execution_count": 3,
      "outputs": [
        {
          "output_type": "execute_result",
          "data": {
            "text/plain": [
              "(1158, 27)"
            ]
          },
          "metadata": {},
          "execution_count": 3
        }
      ]
    },
    {
      "cell_type": "code",
      "source": [
        "df.info()"
      ],
      "metadata": {
        "colab": {
          "base_uri": "https://localhost:8080/"
        },
        "id": "09zNwwmFI3DL",
        "outputId": "6e327c72-d234-4bd2-b64b-53bb186c0e09"
      },
      "execution_count": 4,
      "outputs": [
        {
          "output_type": "stream",
          "name": "stdout",
          "text": [
            "<class 'pandas.core.frame.DataFrame'>\n",
            "RangeIndex: 1158 entries, 0 to 1157\n",
            "Data columns (total 27 columns):\n",
            " #   Column                        Non-Null Count  Dtype  \n",
            "---  ------                        --------------  -----  \n",
            " 0   name                          1158 non-null   object \n",
            " 1   location                      1158 non-null   object \n",
            " 2   latest_position               1158 non-null   object \n",
            " 3   current_company               1158 non-null   object \n",
            " 4   latest_edu_place              1158 non-null   object \n",
            " 5   latest_edu_qual               1158 non-null   object \n",
            " 6   yrs_exp                       1158 non-null   object \n",
            " 7   volunteer_flag                1158 non-null   object \n",
            " 8   children_flag                 1158 non-null   object \n",
            " 9   Age                           1158 non-null   object \n",
            " 10  Has 1 Kid                     1158 non-null   object \n",
            " 11  Has 2-3 Kids                  1158 non-null   object \n",
            " 12  Has More Than 3 Kids          1158 non-null   object \n",
            " 13  Alum Family                   1158 non-null   object \n",
            " 14  Stay with Parents             1158 non-null   object \n",
            " 15  Is Alumnus                    1158 non-null   object \n",
            " 16  Is Staff                      1158 non-null   object \n",
            " 17  Is Student                    1158 non-null   object \n",
            " 18  Is Parent                     1158 non-null   object \n",
            " 19  IsAddressAvailable            1158 non-null   object \n",
            " 20  IsEmailAvailable              1158 non-null   object \n",
            " 21  IsPhoneAvailable              1158 non-null   object \n",
            " 22  District                      1158 non-null   object \n",
            " 23  Marital status_label_encoded  1158 non-null   object \n",
            " 24  Gender_label_encoded          1158 non-null   object \n",
            " 25  Nationality_label_encoded     1158 non-null   object \n",
            " 26  donor_or_not                  1156 non-null   float64\n",
            "dtypes: float64(1), object(26)\n",
            "memory usage: 244.4+ KB\n"
          ]
        }
      ]
    },
    {
      "cell_type": "code",
      "source": [
        "# drop missing values\n",
        "df.dropna(inplace=True)"
      ],
      "metadata": {
        "id": "guvmv0XA_SUU"
      },
      "execution_count": 5,
      "outputs": []
    },
    {
      "cell_type": "code",
      "source": [
        "df['donor_or_not'].value_counts()"
      ],
      "metadata": {
        "colab": {
          "base_uri": "https://localhost:8080/"
        },
        "id": "nh3z5z_V-oiS",
        "outputId": "cb3ffaab-87e0-40c0-e365-6aa0bbf68a8f"
      },
      "execution_count": 6,
      "outputs": [
        {
          "output_type": "execute_result",
          "data": {
            "text/plain": [
              "1.0    1141\n",
              "0.0      15\n",
              "Name: donor_or_not, dtype: int64"
            ]
          },
          "metadata": {},
          "execution_count": 6
        }
      ]
    },
    {
      "cell_type": "code",
      "source": [
        "# convert donor_or_not to int \n",
        "df['donor_or_not'] = df['donor_or_not'].astype('int')"
      ],
      "metadata": {
        "id": "ZQN2S6WLI3HJ"
      },
      "execution_count": 7,
      "outputs": []
    },
    {
      "cell_type": "markdown",
      "source": [
        "#### among those who do not have donation histories"
      ],
      "metadata": {
        "id": "Hed-2D_QDS4U"
      }
    },
    {
      "cell_type": "code",
      "source": [
        "donat = df['donor_or_not'].value_counts()\n",
        "fig = px.bar(donat)\n",
        "fig.show()"
      ],
      "metadata": {
        "colab": {
          "base_uri": "https://localhost:8080/",
          "height": 542
        },
        "id": "vvaC0_UfEkKn",
        "outputId": "650f940f-5cd6-4ee8-b5d1-597b8d98e42e"
      },
      "execution_count": 8,
      "outputs": [
        {
          "output_type": "display_data",
          "data": {
            "text/html": [
              "<html>\n",
              "<head><meta charset=\"utf-8\" /></head>\n",
              "<body>\n",
              "    <div>            <script src=\"https://cdnjs.cloudflare.com/ajax/libs/mathjax/2.7.5/MathJax.js?config=TeX-AMS-MML_SVG\"></script><script type=\"text/javascript\">if (window.MathJax) {MathJax.Hub.Config({SVG: {font: \"STIX-Web\"}});}</script>                <script type=\"text/javascript\">window.PlotlyConfig = {MathJaxConfig: 'local'};</script>\n",
              "        <script src=\"https://cdn.plot.ly/plotly-2.8.3.min.js\"></script>                <div id=\"8fa8ddab-162e-4315-b7f2-6866e4c85a75\" class=\"plotly-graph-div\" style=\"height:525px; width:100%;\"></div>            <script type=\"text/javascript\">                                    window.PLOTLYENV=window.PLOTLYENV || {};                                    if (document.getElementById(\"8fa8ddab-162e-4315-b7f2-6866e4c85a75\")) {                    Plotly.newPlot(                        \"8fa8ddab-162e-4315-b7f2-6866e4c85a75\",                        [{\"alignmentgroup\":\"True\",\"hovertemplate\":\"variable=donor_or_not<br>index=%{x}<br>value=%{y}<extra></extra>\",\"legendgroup\":\"donor_or_not\",\"marker\":{\"color\":\"#636efa\",\"pattern\":{\"shape\":\"\"}},\"name\":\"donor_or_not\",\"offsetgroup\":\"donor_or_not\",\"orientation\":\"v\",\"showlegend\":true,\"textposition\":\"auto\",\"x\":[1,0],\"xaxis\":\"x\",\"y\":[1141,15],\"yaxis\":\"y\",\"type\":\"bar\"}],                        {\"template\":{\"data\":{\"bar\":[{\"error_x\":{\"color\":\"#2a3f5f\"},\"error_y\":{\"color\":\"#2a3f5f\"},\"marker\":{\"line\":{\"color\":\"#E5ECF6\",\"width\":0.5},\"pattern\":{\"fillmode\":\"overlay\",\"size\":10,\"solidity\":0.2}},\"type\":\"bar\"}],\"barpolar\":[{\"marker\":{\"line\":{\"color\":\"#E5ECF6\",\"width\":0.5},\"pattern\":{\"fillmode\":\"overlay\",\"size\":10,\"solidity\":0.2}},\"type\":\"barpolar\"}],\"carpet\":[{\"aaxis\":{\"endlinecolor\":\"#2a3f5f\",\"gridcolor\":\"white\",\"linecolor\":\"white\",\"minorgridcolor\":\"white\",\"startlinecolor\":\"#2a3f5f\"},\"baxis\":{\"endlinecolor\":\"#2a3f5f\",\"gridcolor\":\"white\",\"linecolor\":\"white\",\"minorgridcolor\":\"white\",\"startlinecolor\":\"#2a3f5f\"},\"type\":\"carpet\"}],\"choropleth\":[{\"colorbar\":{\"outlinewidth\":0,\"ticks\":\"\"},\"type\":\"choropleth\"}],\"contour\":[{\"colorbar\":{\"outlinewidth\":0,\"ticks\":\"\"},\"colorscale\":[[0.0,\"#0d0887\"],[0.1111111111111111,\"#46039f\"],[0.2222222222222222,\"#7201a8\"],[0.3333333333333333,\"#9c179e\"],[0.4444444444444444,\"#bd3786\"],[0.5555555555555556,\"#d8576b\"],[0.6666666666666666,\"#ed7953\"],[0.7777777777777778,\"#fb9f3a\"],[0.8888888888888888,\"#fdca26\"],[1.0,\"#f0f921\"]],\"type\":\"contour\"}],\"contourcarpet\":[{\"colorbar\":{\"outlinewidth\":0,\"ticks\":\"\"},\"type\":\"contourcarpet\"}],\"heatmap\":[{\"colorbar\":{\"outlinewidth\":0,\"ticks\":\"\"},\"colorscale\":[[0.0,\"#0d0887\"],[0.1111111111111111,\"#46039f\"],[0.2222222222222222,\"#7201a8\"],[0.3333333333333333,\"#9c179e\"],[0.4444444444444444,\"#bd3786\"],[0.5555555555555556,\"#d8576b\"],[0.6666666666666666,\"#ed7953\"],[0.7777777777777778,\"#fb9f3a\"],[0.8888888888888888,\"#fdca26\"],[1.0,\"#f0f921\"]],\"type\":\"heatmap\"}],\"heatmapgl\":[{\"colorbar\":{\"outlinewidth\":0,\"ticks\":\"\"},\"colorscale\":[[0.0,\"#0d0887\"],[0.1111111111111111,\"#46039f\"],[0.2222222222222222,\"#7201a8\"],[0.3333333333333333,\"#9c179e\"],[0.4444444444444444,\"#bd3786\"],[0.5555555555555556,\"#d8576b\"],[0.6666666666666666,\"#ed7953\"],[0.7777777777777778,\"#fb9f3a\"],[0.8888888888888888,\"#fdca26\"],[1.0,\"#f0f921\"]],\"type\":\"heatmapgl\"}],\"histogram\":[{\"marker\":{\"pattern\":{\"fillmode\":\"overlay\",\"size\":10,\"solidity\":0.2}},\"type\":\"histogram\"}],\"histogram2d\":[{\"colorbar\":{\"outlinewidth\":0,\"ticks\":\"\"},\"colorscale\":[[0.0,\"#0d0887\"],[0.1111111111111111,\"#46039f\"],[0.2222222222222222,\"#7201a8\"],[0.3333333333333333,\"#9c179e\"],[0.4444444444444444,\"#bd3786\"],[0.5555555555555556,\"#d8576b\"],[0.6666666666666666,\"#ed7953\"],[0.7777777777777778,\"#fb9f3a\"],[0.8888888888888888,\"#fdca26\"],[1.0,\"#f0f921\"]],\"type\":\"histogram2d\"}],\"histogram2dcontour\":[{\"colorbar\":{\"outlinewidth\":0,\"ticks\":\"\"},\"colorscale\":[[0.0,\"#0d0887\"],[0.1111111111111111,\"#46039f\"],[0.2222222222222222,\"#7201a8\"],[0.3333333333333333,\"#9c179e\"],[0.4444444444444444,\"#bd3786\"],[0.5555555555555556,\"#d8576b\"],[0.6666666666666666,\"#ed7953\"],[0.7777777777777778,\"#fb9f3a\"],[0.8888888888888888,\"#fdca26\"],[1.0,\"#f0f921\"]],\"type\":\"histogram2dcontour\"}],\"mesh3d\":[{\"colorbar\":{\"outlinewidth\":0,\"ticks\":\"\"},\"type\":\"mesh3d\"}],\"parcoords\":[{\"line\":{\"colorbar\":{\"outlinewidth\":0,\"ticks\":\"\"}},\"type\":\"parcoords\"}],\"pie\":[{\"automargin\":true,\"type\":\"pie\"}],\"scatter\":[{\"marker\":{\"colorbar\":{\"outlinewidth\":0,\"ticks\":\"\"}},\"type\":\"scatter\"}],\"scatter3d\":[{\"line\":{\"colorbar\":{\"outlinewidth\":0,\"ticks\":\"\"}},\"marker\":{\"colorbar\":{\"outlinewidth\":0,\"ticks\":\"\"}},\"type\":\"scatter3d\"}],\"scattercarpet\":[{\"marker\":{\"colorbar\":{\"outlinewidth\":0,\"ticks\":\"\"}},\"type\":\"scattercarpet\"}],\"scattergeo\":[{\"marker\":{\"colorbar\":{\"outlinewidth\":0,\"ticks\":\"\"}},\"type\":\"scattergeo\"}],\"scattergl\":[{\"marker\":{\"colorbar\":{\"outlinewidth\":0,\"ticks\":\"\"}},\"type\":\"scattergl\"}],\"scattermapbox\":[{\"marker\":{\"colorbar\":{\"outlinewidth\":0,\"ticks\":\"\"}},\"type\":\"scattermapbox\"}],\"scatterpolar\":[{\"marker\":{\"colorbar\":{\"outlinewidth\":0,\"ticks\":\"\"}},\"type\":\"scatterpolar\"}],\"scatterpolargl\":[{\"marker\":{\"colorbar\":{\"outlinewidth\":0,\"ticks\":\"\"}},\"type\":\"scatterpolargl\"}],\"scatterternary\":[{\"marker\":{\"colorbar\":{\"outlinewidth\":0,\"ticks\":\"\"}},\"type\":\"scatterternary\"}],\"surface\":[{\"colorbar\":{\"outlinewidth\":0,\"ticks\":\"\"},\"colorscale\":[[0.0,\"#0d0887\"],[0.1111111111111111,\"#46039f\"],[0.2222222222222222,\"#7201a8\"],[0.3333333333333333,\"#9c179e\"],[0.4444444444444444,\"#bd3786\"],[0.5555555555555556,\"#d8576b\"],[0.6666666666666666,\"#ed7953\"],[0.7777777777777778,\"#fb9f3a\"],[0.8888888888888888,\"#fdca26\"],[1.0,\"#f0f921\"]],\"type\":\"surface\"}],\"table\":[{\"cells\":{\"fill\":{\"color\":\"#EBF0F8\"},\"line\":{\"color\":\"white\"}},\"header\":{\"fill\":{\"color\":\"#C8D4E3\"},\"line\":{\"color\":\"white\"}},\"type\":\"table\"}]},\"layout\":{\"annotationdefaults\":{\"arrowcolor\":\"#2a3f5f\",\"arrowhead\":0,\"arrowwidth\":1},\"autotypenumbers\":\"strict\",\"coloraxis\":{\"colorbar\":{\"outlinewidth\":0,\"ticks\":\"\"}},\"colorscale\":{\"diverging\":[[0,\"#8e0152\"],[0.1,\"#c51b7d\"],[0.2,\"#de77ae\"],[0.3,\"#f1b6da\"],[0.4,\"#fde0ef\"],[0.5,\"#f7f7f7\"],[0.6,\"#e6f5d0\"],[0.7,\"#b8e186\"],[0.8,\"#7fbc41\"],[0.9,\"#4d9221\"],[1,\"#276419\"]],\"sequential\":[[0.0,\"#0d0887\"],[0.1111111111111111,\"#46039f\"],[0.2222222222222222,\"#7201a8\"],[0.3333333333333333,\"#9c179e\"],[0.4444444444444444,\"#bd3786\"],[0.5555555555555556,\"#d8576b\"],[0.6666666666666666,\"#ed7953\"],[0.7777777777777778,\"#fb9f3a\"],[0.8888888888888888,\"#fdca26\"],[1.0,\"#f0f921\"]],\"sequentialminus\":[[0.0,\"#0d0887\"],[0.1111111111111111,\"#46039f\"],[0.2222222222222222,\"#7201a8\"],[0.3333333333333333,\"#9c179e\"],[0.4444444444444444,\"#bd3786\"],[0.5555555555555556,\"#d8576b\"],[0.6666666666666666,\"#ed7953\"],[0.7777777777777778,\"#fb9f3a\"],[0.8888888888888888,\"#fdca26\"],[1.0,\"#f0f921\"]]},\"colorway\":[\"#636efa\",\"#EF553B\",\"#00cc96\",\"#ab63fa\",\"#FFA15A\",\"#19d3f3\",\"#FF6692\",\"#B6E880\",\"#FF97FF\",\"#FECB52\"],\"font\":{\"color\":\"#2a3f5f\"},\"geo\":{\"bgcolor\":\"white\",\"lakecolor\":\"white\",\"landcolor\":\"#E5ECF6\",\"showlakes\":true,\"showland\":true,\"subunitcolor\":\"white\"},\"hoverlabel\":{\"align\":\"left\"},\"hovermode\":\"closest\",\"mapbox\":{\"style\":\"light\"},\"paper_bgcolor\":\"white\",\"plot_bgcolor\":\"#E5ECF6\",\"polar\":{\"angularaxis\":{\"gridcolor\":\"white\",\"linecolor\":\"white\",\"ticks\":\"\"},\"bgcolor\":\"#E5ECF6\",\"radialaxis\":{\"gridcolor\":\"white\",\"linecolor\":\"white\",\"ticks\":\"\"}},\"scene\":{\"xaxis\":{\"backgroundcolor\":\"#E5ECF6\",\"gridcolor\":\"white\",\"gridwidth\":2,\"linecolor\":\"white\",\"showbackground\":true,\"ticks\":\"\",\"zerolinecolor\":\"white\"},\"yaxis\":{\"backgroundcolor\":\"#E5ECF6\",\"gridcolor\":\"white\",\"gridwidth\":2,\"linecolor\":\"white\",\"showbackground\":true,\"ticks\":\"\",\"zerolinecolor\":\"white\"},\"zaxis\":{\"backgroundcolor\":\"#E5ECF6\",\"gridcolor\":\"white\",\"gridwidth\":2,\"linecolor\":\"white\",\"showbackground\":true,\"ticks\":\"\",\"zerolinecolor\":\"white\"}},\"shapedefaults\":{\"line\":{\"color\":\"#2a3f5f\"}},\"ternary\":{\"aaxis\":{\"gridcolor\":\"white\",\"linecolor\":\"white\",\"ticks\":\"\"},\"baxis\":{\"gridcolor\":\"white\",\"linecolor\":\"white\",\"ticks\":\"\"},\"bgcolor\":\"#E5ECF6\",\"caxis\":{\"gridcolor\":\"white\",\"linecolor\":\"white\",\"ticks\":\"\"}},\"title\":{\"x\":0.05},\"xaxis\":{\"automargin\":true,\"gridcolor\":\"white\",\"linecolor\":\"white\",\"ticks\":\"\",\"title\":{\"standoff\":15},\"zerolinecolor\":\"white\",\"zerolinewidth\":2},\"yaxis\":{\"automargin\":true,\"gridcolor\":\"white\",\"linecolor\":\"white\",\"ticks\":\"\",\"title\":{\"standoff\":15},\"zerolinecolor\":\"white\",\"zerolinewidth\":2}}},\"xaxis\":{\"anchor\":\"y\",\"domain\":[0.0,1.0],\"title\":{\"text\":\"index\"}},\"yaxis\":{\"anchor\":\"x\",\"domain\":[0.0,1.0],\"title\":{\"text\":\"value\"}},\"legend\":{\"title\":{\"text\":\"variable\"},\"tracegroupgap\":0},\"margin\":{\"t\":60},\"barmode\":\"relative\"},                        {\"responsive\": true}                    ).then(function(){\n",
              "                            \n",
              "var gd = document.getElementById('8fa8ddab-162e-4315-b7f2-6866e4c85a75');\n",
              "var x = new MutationObserver(function (mutations, observer) {{\n",
              "        var display = window.getComputedStyle(gd).display;\n",
              "        if (!display || display === 'none') {{\n",
              "            console.log([gd, 'removed!']);\n",
              "            Plotly.purge(gd);\n",
              "            observer.disconnect();\n",
              "        }}\n",
              "}});\n",
              "\n",
              "// Listen for the removal of the full notebook cells\n",
              "var notebookContainer = gd.closest('#notebook-container');\n",
              "if (notebookContainer) {{\n",
              "    x.observe(notebookContainer, {childList: true});\n",
              "}}\n",
              "\n",
              "// Listen for the clearing of the current output cell\n",
              "var outputEl = gd.closest('.output');\n",
              "if (outputEl) {{\n",
              "    x.observe(outputEl, {childList: true});\n",
              "}}\n",
              "\n",
              "                        })                };                            </script>        </div>\n",
              "</body>\n",
              "</html>"
            ]
          },
          "metadata": {}
        }
      ]
    },
    {
      "cell_type": "code",
      "source": [
        "# value counts of all columns\n",
        "for col in df.columns:\n",
        "  print(col + '------------------')\n",
        "  print(df[col].value_counts())\n",
        "  print('------------------')\n"
      ],
      "metadata": {
        "colab": {
          "base_uri": "https://localhost:8080/"
        },
        "id": "eqkBHKDcwtII",
        "outputId": "254cd06b-c63a-4635-89c5-ea9b25e219dd"
      },
      "execution_count": 9,
      "outputs": [
        {
          "output_type": "stream",
          "name": "stdout",
          "text": [
            "name------------------\n",
            "9a1d3491f6067575b516fe2b56baeb62b1623bcd7e892ece5cb3c2a11e361329    2\n",
            "8777312d990e3f8c1ab303b923bf7eff053e44f8efe0b597a71f1b048d51c66f    2\n",
            "7952c7d8b24295f9b014215b09411ee801bd85c6cdeb4b4d6285edc4d916cee4    2\n",
            "55063850816e41b554bbee8f16091b79d45cc3f02e6563aa6ae9064e066d71ea    2\n",
            "413e6618f6f2241ffff0ea0ac3c1e42fe2f2a42a360e06cb7b4c34c2422b1850    2\n",
            "                                                                   ..\n",
            "965114a8639adead423924d52a737be4ed69a65ff26b8677b14db052dd4ca4cd    1\n",
            "61e5078de545e5702e4f999f1f5d67721c5a848fa6ef5fbd10642ce67948c42e    1\n",
            "a20a250c46b0f181bb57ee39aafea4ef20642b52343fc3b8cea4b23534883720    1\n",
            "970b46808c3b2240e5fb8d6aaac2dd6e324fbba314634dd3f412e34aad0794e6    1\n",
            "40a08be16a574fe980223dc4763605c9dfb1e0f1a2b7b7ee1b3370519e0a9af3    1\n",
            "Name: name, Length: 1145, dtype: int64\n",
            "------------------\n",
            "location------------------\n",
            "ca9f6563c7614c5ef5f033c9aaa1aa21611412da771a91b9eb401bfaebabe438    539\n",
            "c96dd81db196cca5f57bd4270bbb9d9e9d1b242d67f9364005ee1dfdc2632523    526\n",
            "9b2d5b4678781e53038e91ea5324530a03f27dc1d0e5f6c9bc9d493a23be9de0     22\n",
            "40c50eeec0d00e4d63b511ee0ac862534be43fd9aa04b8227781c6b65662c1be     13\n",
            "99406be6f8f8044366aef3271ac4109d0538df39276e9ea16dcfe1adf2206c5d      7\n",
            "c4eb333119c73fff53bfb03444a9074f7c350d475b353a7a92d7b174b148ef7a      2\n",
            "255e6164fc02b3af303c01f52a6c416bdf86c6b328cd5d54a226a7c05b69aa06      2\n",
            "10436829032f361a3de50048de41755140e581467bc1895e6c1a17f423e42d10      2\n",
            "8c67f1c65607cb34b9b413d9f9148af381a425b124a9c0e1b85b425e5c6acaa1      2\n",
            "775d158170c2d48a0152031c2e840f3f002e2c740ef080248a630d6b838659f4      2\n",
            "39971ec88899420efb3508fb30a901c57dadb206bd3e1936acc18921fe490dff      2\n",
            "734d3486e169f350b9ac2fa6a890733ea5325bb66bbaf30800356c9897423b52      1\n",
            "36affade25bca9efa21581d55cadbd8411705ef74df8aa7d5dc19475683f529c      1\n",
            "c40ec43c0499d3264661fd8eeca3e49cf7018237b8800a7620d8c07bb44e1ae8      1\n",
            "75fbcedbbaeea64bbe3bbedaeb4a3de35e8c13fdf995a6a1b65925b482d1e5aa      1\n",
            "75ad2ad5ae8787554f8e1c28fc333f0c87ad9e25e5ca904d6c0ee546193a36a4      1\n",
            "1e31ea20e9680bfe996168d04494921f92bcde6d0b527494942d6639df4db3f9      1\n",
            "5e4eeaf10210b60c1fcca6b4cf5e1e0a162435dd5d1de392a2aed024e0ce1ac1      1\n",
            "431fb41b66abe1d523f2e84556a70a1f10f827ac0f1b0b143d85a371b8806e0a      1\n",
            "6a8a26d29289d893fbcfe38f5e6cf0b92e90cfb9d5b2aaed8260d9f3803e34cc      1\n",
            "4b13962a3902cb3954ff2fcd7209a33c5b41fd9c80084f4e6cc2fca464c0302f      1\n",
            "767021c72cb04083d2a5495dd3e7d0184a8f349ec88074538d772f80ed45f86d      1\n",
            "b77a70a635b2a30d66e17faf5e7ce54a5f92b6197162ce30fe3e411e14c67c67      1\n",
            "a4cb1577660097f594ba566fa953208af259f0c53e2b6f9a6c872a46b1f3e804      1\n",
            "37d13821cff25782fe9b4185834a3af2dbafd6222ec91210a8b840305d3fa1d2      1\n",
            "d7951b3721dbc6630f7a0c5e2a41a0ad44ddeb5e57019c044aee1fac8cdd451a      1\n",
            "55dae9ab183a9faff0627459d0d96de7778154497076933b60d2ef512554829a      1\n",
            "3f2f0317cda9b3628fee5d65323df9f8ef88f2c75835575ea0d5e675c88a06d7      1\n",
            "56c4b230790d47edc27fc5ffc70045eef2b0a28737a3b193560059c98666e6eb      1\n",
            "acea086f15c1b7b97393bba7c2ccb1bff9f8e119ac10021cb01ec91dd2c388ec      1\n",
            "c3782c86d8099f3fb5b755ebc970322567aa3894923de8c9c5fc97456133471c      1\n",
            "2ea5432b1b1f816a6cf075cc3eae34050c8eee1b005079cd7c54ee75a43c4734      1\n",
            "9e793a19c50fea70fd8649905738ed05f0fde3c52273b02bc89ecb868bf595db      1\n",
            "734d3dadc3e16a32d6cdce29fad8e2aced95e12da448eade0dd688a76139796e      1\n",
            "0b7637d5dd3c0e09980fb400ebbdcf727263a5548c518cd9da076f65d9d4bd3f      1\n",
            "439e53e2815b0491d6560eadf0309d5a130f9e6425d92f7a5eae7256cd5485e4      1\n",
            "cc7bc2eb97a5092db2d222783cd25e52b6420f9207d5387b5beb361b75ac3503      1\n",
            "c59bbc258577e7a1a58604e737bfda9793a71c9660364d24e70590359f1c4c32      1\n",
            "c6624c8980da24d9282ad49732fdec0ff1d5bed80d990a1353adb7680b11f638      1\n",
            "e0add251d508fe2bfac0a826cc82cc67abd8c5e922dd2ffe918288fc4338f6d9      1\n",
            "dbc74a36d8e7439c45c64d856388506cc9b1218619cef979c3d605115a7a4546      1\n",
            "ba8beb982c4e4ec622b0ae67ba3592286d5adf9dc4646a2fcc3a7d99c13c406f      1\n",
            "15335474a407b3b5aedc57ee767400b85c4eca4877ee37cb884dabd355f9778b      1\n",
            "5e196d76646a4e55589d52558df29225ab02ea4335e877cff54933698c617a5d      1\n",
            "175fd3e53581f23192ef30163125eb94fdf560fe1ea1f08e50dfa4d73bd9f436      1\n",
            "cda17b317ee20e852105640392c036a18f0ed70513f2f61b23c54702f5135d97      1\n",
            "759cb44227ba31f3eb0c51e0abb4bfe73e90349d175b366753074f68066b0d61      1\n",
            "59e1d87567e799b9173d47b53810729b12d266c0043ba96b0fb45664381c9078      1\n",
            "Name: location, dtype: int64\n",
            "------------------\n",
            "latest_position------------------\n",
            "9b2d5b4678781e53038e91ea5324530a03f27dc1d0e5f6c9bc9d493a23be9de0    37\n",
            "c149bc14e45c0d92e0adae72d5dfa10ad2fde44aebb562d6c1fedebf30ceaca1    30\n",
            "ad617a0fdd57e3f4b8ebb27f6f60470bc4468aadec290db57e612f751767745d    18\n",
            "a054a09baa6895c1f841bb7506945463487cb00df6bc3a8600bee7d21c03df6e    14\n",
            "11ad1febc4d182d48caee610352b74351674cc75d69e577a14a3c65353e723c3    12\n",
            "                                                                    ..\n",
            "29d652b699acd9510ff50a57114c916c1d89506daef6e0ecab4af1d7d22db35c     1\n",
            "d80f11137736118d3ee88847a9be9e9b2b6b63db26918e982c98620c030c9fd6     1\n",
            "54507178b793d247908e56eb534024c1862e328f8796f9c7884862952ba05c0c     1\n",
            "3d441a2c099a38b4e6f91ab63e72d7d6299d1a3cc410ce3fc51a348794ba7104     1\n",
            "66d0f523a379b2de6f8d5fba3a817ebc395f7bcaa54cc132ca9dfa665d1e9378     1\n",
            "Name: latest_position, Length: 822, dtype: int64\n",
            "------------------\n",
            "current_company------------------\n",
            "009d49ac333fd47e3d402abfc2f822f366c73eb6aa0f4fad04559e4ea5a8c9f4    41\n",
            "512ab3c6b9869577bd4474c56b88f9e3f1c40c54d18e8e5a2329821254d362d2    22\n",
            "ad617a0fdd57e3f4b8ebb27f6f60470bc4468aadec290db57e612f751767745d    21\n",
            "9b2d5b4678781e53038e91ea5324530a03f27dc1d0e5f6c9bc9d493a23be9de0    16\n",
            "6b86b273ff34fce19d6b804eff5a3f5747ada4eaa22f1d49c01e52ddb7875b4b    13\n",
            "                                                                    ..\n",
            "f4ffd4ce0e85d5d2756d890af7ebc13b30336ef6ac5685e0bee77355393e7e92     1\n",
            "6b1346300cccba2592ad954de8b80df2e5627277e944743b67067c693254287f     1\n",
            "f7d76a6c83728e9d679b0ab758b3e6f9601a7393898e00ae98f0ad05270f39f1     1\n",
            "0bfcc9d23e93188e0b94e0812eec8aaf81323e10c447bf45388858e7f6a67ddf     1\n",
            "0ac31a3e82e318e9632dd0ec094d0a660d132550e88919f24a9b6c39ca24d7eb     1\n",
            "Name: current_company, Length: 900, dtype: int64\n",
            "------------------\n",
            "latest_edu_place------------------\n",
            "d81ffc4257cf3d17ac099f56a8fee8604a76b53c8aaa76aafe7bdc695b306839    597\n",
            "dc937b59892604f5a86ac96936cd7ff09e25f18ae6b758e8014a24c7fa039e91    134\n",
            "9b2d5b4678781e53038e91ea5324530a03f27dc1d0e5f6c9bc9d493a23be9de0    101\n",
            "70ccb485197bbb6c89fdc699d79237e6c7d25ae61d77e82bc5d08697916b3a89     80\n",
            "c111feb812f1a7ed9465aa238c13897c77ad0b4f4898a80c0d023160a83e5e05     24\n",
            "                                                                   ... \n",
            "3299c87d2bb3dfd39782a2924a5f868f0390a36403bd9e34a66a14e5b81b544f      1\n",
            "89b9b3962b3327c86a1c5275acd38493ee437c751d2a34feab9a1254fbec169f      1\n",
            "b71e4506b75fcb886aff93e81608789c084b67e654ff404917422414d83052ff      1\n",
            "4dc97ccbbb133566bbd2c7600bb0cc1cd6740a8226025f8abb06b7f4da2269a1      1\n",
            "f5f39a80a908b4f1aedc5bb0b0b1d223b3b051818fa414812869f0a4fed3f394      1\n",
            "Name: latest_edu_place, Length: 140, dtype: int64\n",
            "------------------\n",
            "latest_edu_qual------------------\n",
            "9c0736a282d77e28ea176f88efa2ed4d316a36f21e5f1e4b2b5cdfccc7faea64    486\n",
            "b0a088422375d451e34aa118a4b44e31d02c6236e108dad30a8a4dc4a0a2a63b    376\n",
            "dc937b59892604f5a86ac96936cd7ff09e25f18ae6b758e8014a24c7fa039e91    134\n",
            "9b2d5b4678781e53038e91ea5324530a03f27dc1d0e5f6c9bc9d493a23be9de0     84\n",
            "0c2db2d9c9905217d2d9477c490d5d48ffcc08de4f5c9a2bc157140e41ff45c7     76\n",
            "Name: latest_edu_qual, dtype: int64\n",
            "------------------\n",
            "yrs_exp------------------\n",
            "9b2d5b4678781e53038e91ea5324530a03f27dc1d0e5f6c9bc9d493a23be9de0    324\n",
            "dc937b59892604f5a86ac96936cd7ff09e25f18ae6b758e8014a24c7fa039e91    134\n",
            "4fc82b26aecb47d2868c4efbe3581732a3e7cbcc6c2efb32062c08170a05eeb8     40\n",
            "9400f1b21cb527d7fa3d3eabba93557a18ebe7a2ca4e471cfe5e4c5b4ca7f767     35\n",
            "4a44dc15364204a80fe80e9039455cc1608281820fe2b24f1e5233ade6af1dd5     34\n",
            "6b51d431df5d7f141cbececcf79edf3dd861c3b4069f0b11661a3eefacbba918     32\n",
            "3fdba35f04dc8c462986c992bcf875546257113072a909c162f7e470e581e278     31\n",
            "4b227777d4dd1fc61c6f884f48641d02b4d121d3fd328cb08b5531fcacdabf8a     28\n",
            "8527a891e224136950ff32ca212b45bc93f69fbb801c3b1ebedac52775f99e61     28\n",
            "ef2d127de37b942baad06145e54b0c619a1f22327b2ebbcfbec78f5564afe39d     26\n",
            "4523540f1504cd17100c4835e85b7eefd49911580f8efff0599a8f283be6b9e3     25\n",
            "785f3ec7eb32f30b90cd0fcf3657d388b5ff4297f2f9716ff66e9b69c05ddd09     25\n",
            "4e07408562bedb8b60ce05c1decfe3ad16b72230967de01f640b7e4729b49fce     24\n",
            "535fa30d7e25dd8a49f1536779734ec8286108d115da5045d77f3b4185d8f790     24\n",
            "19581e27de7ced00ff1ce50b2047e7a567c76b1cbaebabe5ef03f7c3017bb5b7     23\n",
            "e629fa6598d732768f7c726b4b621285f9c3b85303900aa912017db7617d8bdb     22\n",
            "4ec9599fc203d176a301536c2e091a19bc852759b255bd6818810a42c5fed14a     22\n",
            "2c624232cdd221771294dfbb310aca000a0df6ac8b66b696d90ef06fdefb64a3     21\n",
            "b17ef6d19c7a5b1ee83b907c595526dcb1eb06db8227d650d5dda0a9f4ce8cd9     21\n",
            "e7f6c011776e8db7cd330b54174fd76f7d0216b612387a5ffcfb81e6f0919683     20\n",
            "6f4b6612125fb3a0daecd2799dfd6c9c299424fd920f9b308110a2c1fbd8f443     19\n",
            "670671cd97404156226e507973f2ab8330d3022ca96e0c93bdbdb320c41adcaf     19\n",
            "c2356069e9d1e79ca924378153cfbbfb4d4416b1f99d41a2940bfdb66c5319db     18\n",
            "d4735e3a265e16eee03f59718b9b5d03019c07d8b6c51f90da3a666eec13ab35     18\n",
            "f5ca38f748a1d6eaf726b8a42fb575c3c71f1864a8143301782de13da2d9202b     16\n",
            "5f9c4ab08cac7457e9111a30e4664920607ea2c115a1433d7be98e97e64244ca     14\n",
            "b7a56873cd771f2c446d369b649430b65a756ba278ff97ec81bb6f55b2e73569     14\n",
            "7902699be42c8a8e46fbbb4501726517e86b22c56a189f7625a6da49081b2451     14\n",
            "35135aaa6cc23891b40cb3f378c53a17a1127210ce60e125ccf03efcfdaec458     13\n",
            "6b86b273ff34fce19d6b804eff5a3f5747ada4eaa22f1d49c01e52ddb7875b4b     11\n",
            "86e50149658661312a9e0b35558d84f6c6d3da797f552a9657fe0558ca40cdef     10\n",
            "59e19706d51d39f66711c2653cd7eb1291c94d9b55eb14bda74ce4dc636d015a      8\n",
            "eb1e33e8a81b697b75855af6bfcdbcbf7cbbde9f94962ceaec1ed8af21f5a50f      7\n",
            "624b60c58c9d8bfb6ff1886c2fd605d2adeb6ea4da576068201b6c6958ce93f4      7\n",
            "e29c9c180c6279b0b02abd6a1801c7c04082cf486ec027aa13515e4f3884bb6b      6\n",
            "76a50887d8f1c2e9301755428990ad81479ee21c25b43215cf524541e0503269      6\n",
            "c6f3ac57944a531490cd39902d0f777715fd005efac9a30622d5f5205e7f6894      4\n",
            "7a61b53701befdae0eeeffaecc73f14e20b537bb0f8b91ad7c2936dc63562b25      3\n",
            "5feceb66ffc86f38d952786c6d696c79c2dbc239dd4e91b46729d73a27fb57e9      2\n",
            "cf3bae39dd692048a8bf961182e6a34dfd323eeb0748e162eaf055107f1cb873      2\n",
            "3d914f9348c9cc0ff8a79716700b9fcd4d2f3e711608004eb8f138bcba7f14d9      1\n",
            "0b918943df0962bc7a1824c0555a389347b4febdc7cf9d1254406d80ce44e3f9      1\n",
            "2858dcd1057d3eae7f7d5f782167e24b61153c01551450a628cee722509f6529      1\n",
            "73475cb40a568e8da8a045ced110137e159f890ac4da883b6b17dc651b3a8049      1\n",
            "aea92132c4cbeb263e6ac2bf6c183b5d81737f179f21efdc5863739672f0f470      1\n",
            "71ee45a3c0db9a9865f7313dd3372cf60dca6479d46261f3542eb9346e4a04d6      1\n",
            "Name: yrs_exp, dtype: int64\n",
            "------------------\n",
            "volunteer_flag------------------\n",
            "8ce86a6ae65d3692e7305e2c58ac62eebd97d3d943e093f577da25c36988246b    967\n",
            "18f5384d58bcb1bba0bcd9e6a6781d1a6ac2cc280c330ecbab6cb7931b721552    189\n",
            "Name: volunteer_flag, dtype: int64\n",
            "------------------\n",
            "children_flag------------------\n",
            "8ce86a6ae65d3692e7305e2c58ac62eebd97d3d943e093f577da25c36988246b    1100\n",
            "18f5384d58bcb1bba0bcd9e6a6781d1a6ac2cc280c330ecbab6cb7931b721552      56\n",
            "Name: children_flag, dtype: int64\n",
            "------------------\n",
            "Age------------------\n",
            "8aed642bf5118b9d3c859bd4be35ecac75b6e873cce34e7b6f554b06f75550d7    110\n",
            "0729c13ebd725201c1445a00c825237d305ff650cd72f50e45259bd942a75ef4     51\n",
            "ef200d24a60e63105e09cdf6e2e8b340a0eccff3905343ce4fd106745193fdd9     42\n",
            "7665a1519d9063ed9aad694cbe7537f7e2f6cc47d6957096ecd117af918bed77     41\n",
            "de64346f732f769b937330885f1e58df7680789de7866df41100090c61111941     40\n",
            "72e72b41e40336eeef6045c40e3ac2988411fbadc42958caf30e7dbf1b729e00     40\n",
            "48c39c4ce021761185aa352db60363c1109684c3243b89e170eab2306787ae45     39\n",
            "21a211d498ff22931cd0f4401fd018e33fc9770a66d4feb726d980a58de226d4     38\n",
            "53519e43db90bd08ff4459fd23fc944324ffb7d8f542ccc0b44257afea2ef525     38\n",
            "b690285b6e60662df771bc7a6b6ee1cb13f799e3d902ec40de8515a66438d851     37\n",
            "5ea2ed9b13224d64e893507a964bcd8b01da4b5a5a2fc849f1244e26ced43beb     37\n",
            "cc179cc6804e03b317abe487bbfd0651951ccd6f562d6db1fa9296da87076e7e     36\n",
            "aae57dbd4a6b14eb112a98a258bd5de68e894b13e89752c57b1b2d9d62d07e54     36\n",
            "94e634ac63620eab982ebd55f5f8862038782070d9f2e7f3c252b2f4c48d3193     36\n",
            "feff532714e9b11b9ad6112d14afb90728a22b28c764ab0d4fd2291e49e1846e     35\n",
            "f97a13577367c1d604d37c4d2b6242d7193c7ba04aa4d1a64c322b23b2f9bd2a     35\n",
            "dc0ca0bbe9e0e5ef9abdcf133b0936cc847d779005581136a5834267f41823bd     33\n",
            "e15274dcfe2d0cb541e8aa23fef7aaaa116bfcbc937d35ffda9d4506c8d7e785     32\n",
            "1436c71c3bc18cb9ff43acdb59f3c6de30a069675bab734cee93520fd882f940     30\n",
            "f85f0b0b202527348d18a78706e3ff04eddb2022895655cb63039afb9b99a3cd     29\n",
            "4b28a7af7cd67294f54660cc9a39a51c9a72de22caaab70b3b8cdd11aac3b9f9     29\n",
            "3883138a87732955cea4ec542b22ef82c5342262ca1dab6dbbbd0ebba20b017f     28\n",
            "26c9a96ce053a14dd88a71a4830c9cbed7e1fed7e3f3f8a0b0b6a58f3f0f02e6     26\n",
            "d6280ef07ffa494cf43f1d5d6b95bb209148fae349ad05cd3b114cbc3dbe930c     24\n",
            "6b8f9bbe2b292547ed798be4c464ed29fde442e26b0d875b303114e32a309faf     23\n",
            "40b2ddd4fee0a4778f262e809498e83d2b3345e6e104a2b2faa879e3f3be5884     19\n",
            "80a753d4a473696b282e7cb81174a543a0973254e831f8c93e83a218f6045543     19\n",
            "4918d4e05218ac860241eaa4933422bbcda72bd6dde1b937902e13ed2f433d9f     18\n",
            "836ea26749e1e308f7898e75e5216ac4027a143dca8246337156623635c752d6     17\n",
            "a99479af5e9b150b44957c0594e5896d05201b48970d9e14a9ae54690cabf781     17\n",
            "e83763df0a559307f28925481113a83c93a96030b384473a8194531fa17c0c38     15\n",
            "00c10b58d5c431fee46080cd1ce96bf2fd15a683255e9fc30ee0f672dad91424     13\n",
            "af759d32fe388d2880a7b1449f6c69b57aee796eca10982ffbc67098963f2821     11\n",
            "4bf4f525504cc0a2c514f8cfd5d73ea65c50af4bbcd047c0f01fd331ed3ef051      9\n",
            "3d0c8283603d59c94f8a0dc23a50483c8dd132521e28c98fa688fd0c692a278e      8\n",
            "dce81cca484053ef71096b308cb234b77b4ff19b507b7e033677c6a3827eaeef      8\n",
            "3884d73b84f2e88d36a540aa9587c500a76922cf48463d3c130917896b5fcac4      8\n",
            "55d58fdcf9edbf86e9fbe14f6ae96e143feeedd8cf6cb091a1cff30df1ca0081      7\n",
            "64ad95b5f35464a539b315ea092399c54149f84df9c53742dc7a2d47bad8d00e      6\n",
            "c23682d6bdb6c3180520659f65b92ef5b93404256af9149e90671937cacf48f4      6\n",
            "db58b6c40698d7371bbcff35d085e1bac5fa439d0de31eb8e0da7c47d27cb2a7      5\n",
            "05e300642513b2f6310d670684b338726f6afed3c72c84f1425756c07793747a      5\n",
            "c22cd1ea7268eed0a17f08b05559b6f7939040cf707d5ab4d9fc0e69a2b35d21      5\n",
            "257a85d35ed6a007b8d472e3fcb23f955e0387751bf71c468065ab7a3ee129cd      3\n",
            "f81b732a59389bd6838affaf36f9a3b6d9fe736b4e99f146571a5b1b935283e9      3\n",
            "dc371291bd7ac8a21624e3efa75d0a882d2d8d5a8a66befac962c2d1721076af      2\n",
            "2ab13293652b41c07a033e31553a31be2bfd2b2e81bc8bde0d25eb14506dc879      2\n",
            "814ed67f994391ff7bebf38f92cb4f01e36cfa36a65630807478bccf7152d9fb      2\n",
            "7b748182fb71184597fa298ac16dd73c073b294a85c3623e7f6a79107c7fe221      1\n",
            "17445e8d3ac69e931c057112ab0d74da5030872bac541bd83bfa87bf1b68d1cd      1\n",
            "21abb7c83b003f8abe7bf105e342c1615b6cd1e773ca5997c8e6ac1aa7ab2e8e      1\n",
            "Name: Age, dtype: int64\n",
            "------------------\n",
            "Has 1 Kid------------------\n",
            "8aed642bf5118b9d3c859bd4be35ecac75b6e873cce34e7b6f554b06f75550d7    1145\n",
            "d0ff5974b6aa52cf562bea5921840c032a860a91a3512f7fe8f768f6bbe005f6      11\n",
            "Name: Has 1 Kid, dtype: int64\n",
            "------------------\n",
            "Has 2-3 Kids------------------\n",
            "8aed642bf5118b9d3c859bd4be35ecac75b6e873cce34e7b6f554b06f75550d7    1154\n",
            "d0ff5974b6aa52cf562bea5921840c032a860a91a3512f7fe8f768f6bbe005f6       2\n",
            "Name: Has 2-3 Kids, dtype: int64\n",
            "------------------\n",
            "Has More Than 3 Kids------------------\n",
            "8aed642bf5118b9d3c859bd4be35ecac75b6e873cce34e7b6f554b06f75550d7    1156\n",
            "Name: Has More Than 3 Kids, dtype: int64\n",
            "------------------\n",
            "Alum Family------------------\n",
            "8aed642bf5118b9d3c859bd4be35ecac75b6e873cce34e7b6f554b06f75550d7    1031\n",
            "d0ff5974b6aa52cf562bea5921840c032a860a91a3512f7fe8f768f6bbe005f6     125\n",
            "Name: Alum Family, dtype: int64\n",
            "------------------\n",
            "Stay with Parents------------------\n",
            "8aed642bf5118b9d3c859bd4be35ecac75b6e873cce34e7b6f554b06f75550d7    1144\n",
            "d0ff5974b6aa52cf562bea5921840c032a860a91a3512f7fe8f768f6bbe005f6      12\n",
            "Name: Stay with Parents, dtype: int64\n",
            "------------------\n",
            "Is Alumnus------------------\n",
            "d0ff5974b6aa52cf562bea5921840c032a860a91a3512f7fe8f768f6bbe005f6    1047\n",
            "8aed642bf5118b9d3c859bd4be35ecac75b6e873cce34e7b6f554b06f75550d7     109\n",
            "Name: Is Alumnus, dtype: int64\n",
            "------------------\n",
            "Is Staff------------------\n",
            "8aed642bf5118b9d3c859bd4be35ecac75b6e873cce34e7b6f554b06f75550d7    1046\n",
            "d0ff5974b6aa52cf562bea5921840c032a860a91a3512f7fe8f768f6bbe005f6     110\n",
            "Name: Is Staff, dtype: int64\n",
            "------------------\n",
            "Is Student------------------\n",
            "8aed642bf5118b9d3c859bd4be35ecac75b6e873cce34e7b6f554b06f75550d7    1155\n",
            "d0ff5974b6aa52cf562bea5921840c032a860a91a3512f7fe8f768f6bbe005f6       1\n",
            "Name: Is Student, dtype: int64\n",
            "------------------\n",
            "Is Parent------------------\n",
            "8aed642bf5118b9d3c859bd4be35ecac75b6e873cce34e7b6f554b06f75550d7    1156\n",
            "Name: Is Parent, dtype: int64\n",
            "------------------\n",
            "IsAddressAvailable------------------\n",
            "d0ff5974b6aa52cf562bea5921840c032a860a91a3512f7fe8f768f6bbe005f6    1124\n",
            "8aed642bf5118b9d3c859bd4be35ecac75b6e873cce34e7b6f554b06f75550d7      32\n",
            "Name: IsAddressAvailable, dtype: int64\n",
            "------------------\n",
            "IsEmailAvailable------------------\n",
            "d0ff5974b6aa52cf562bea5921840c032a860a91a3512f7fe8f768f6bbe005f6    1132\n",
            "8aed642bf5118b9d3c859bd4be35ecac75b6e873cce34e7b6f554b06f75550d7      24\n",
            "Name: IsEmailAvailable, dtype: int64\n",
            "------------------\n",
            "IsPhoneAvailable------------------\n",
            "d0ff5974b6aa52cf562bea5921840c032a860a91a3512f7fe8f768f6bbe005f6    1132\n",
            "8aed642bf5118b9d3c859bd4be35ecac75b6e873cce34e7b6f554b06f75550d7      24\n",
            "Name: IsPhoneAvailable, dtype: int64\n",
            "------------------\n",
            "District------------------\n",
            "cb30211d8e99f76a7f0b4f080b48cb2095f6b6128b07d52bbf030a78c146aea0    134\n",
            "dcccf7eb694b3990811d7b91e1928100be0ff27e7dc57b9d9ba10ff718fb76ac    130\n",
            "c22cd1ea7268eed0a17f08b05559b6f7939040cf707d5ab4d9fc0e69a2b35d21    129\n",
            "585348dbd28810f9a34f57be46f000c5f9effab894d074713d93fe7ccfeb3b76     78\n",
            "c72ae9676454d7cc0014583a9d0a2e28553d5c62f087c7562b5307ebd1cc84c8     65\n",
            "a416ea84421fa7e1351582da48235bac88380a337ec5cb5a9239dc7d57908b4b     60\n",
            "8aed642bf5118b9d3c859bd4be35ecac75b6e873cce34e7b6f554b06f75550d7     58\n",
            "e38e216cb55bf07f1b4188684ef9d47945ad0247c1bb6314fe03f2b99a0c7145     57\n",
            "566afbb607a8f17b7cdf2d7f1632a2a810c06b128e8b81b6c6a8780eb9955dd1     48\n",
            "a19a1584344c1f3783bff51524a5a4b86f2cc09356c9dbfb6af9cd236e314362     45\n",
            "f1e42019aecc858ffbcca7fddec511b761b474916fde37b1a6ff321a9b459330     42\n",
            "77c52f3feed5acdd119b1f8449d5ccc2d39be94bd0314d5b7302f36e20b6cea9     35\n",
            "3d0c8283603d59c94f8a0dc23a50483c8dd132521e28c98fa688fd0c692a278e     31\n",
            "e4658389f3e9af055d9d349c5e68122e26dbce056fe0daa559511cd19931191c     31\n",
            "65cebb6f370f68502d4af051143fcd0def5afa569cf0176964bdf95bdf1ce5f1     30\n",
            "00c10b58d5c431fee46080cd1ce96bf2fd15a683255e9fc30ee0f672dad91424     28\n",
            "56824d16dcb61c982fc31a731cf6f20594c0a3f1da2aff349ee804bf1c4544d1     25\n",
            "be293da5be477078cbeee7feef7b384f879f730ef26f51a674ce59f6ee0251d4     23\n",
            "3884d73b84f2e88d36a540aa9587c500a76922cf48463d3c130917896b5fcac4     19\n",
            "b7edbb1d306a68faf170673ebef76f1dfef2045c0c190bdc1bb37837e37504a4     19\n",
            "80a753d4a473696b282e7cb81174a543a0973254e831f8c93e83a218f6045543     17\n",
            "fbd04e1aae9ce0b11a8946e2c9ac2619f7428a64d32d01eff61d809dcb70ee8e     14\n",
            "d84bdb34d4eeef4034d77e5403f850e35bc4a51b1143e3a83510e1aaad839748     12\n",
            "7b1bd53949b752d143d871408483b5382371b5bc48d195d0c040ec93cfa2748b     11\n",
            "2b7120854845b6c57c51713a6f7a1efa9f7577a9dc84c00e2224b505a8eddae7     11\n",
            "d0ff5974b6aa52cf562bea5921840c032a860a91a3512f7fe8f768f6bbe005f6      2\n",
            "8ab31b5afaea56114427e1f01b81d001b079a0f59539f6db3f099816ca794055      1\n",
            "0de7cf39e1e6366122309794e86d197d025a81235881e67ec4f011c9db2df252      1\n",
            "Name: District, dtype: int64\n",
            "------------------\n",
            "Marital status_label_encoded------------------\n",
            "a416ea84421fa7e1351582da48235bac88380a337ec5cb5a9239dc7d57908b4b    666\n",
            "d0ff5974b6aa52cf562bea5921840c032a860a91a3512f7fe8f768f6bbe005f6    344\n",
            "8ab31b5afaea56114427e1f01b81d001b079a0f59539f6db3f099816ca794055    144\n",
            "8aed642bf5118b9d3c859bd4be35ecac75b6e873cce34e7b6f554b06f75550d7      2\n",
            "Name: Marital status_label_encoded, dtype: int64\n",
            "------------------\n",
            "Gender_label_encoded------------------\n",
            "d0ff5974b6aa52cf562bea5921840c032a860a91a3512f7fe8f768f6bbe005f6    731\n",
            "8aed642bf5118b9d3c859bd4be35ecac75b6e873cce34e7b6f554b06f75550d7    362\n",
            "d84bdb34d4eeef4034d77e5403f850e35bc4a51b1143e3a83510e1aaad839748     63\n",
            "Name: Gender_label_encoded, dtype: int64\n",
            "------------------\n",
            "Nationality_label_encoded------------------\n",
            "1f4d86b1e0415f97659988ec13c7753c4bffc5f95d373c3937394ec6ae2c929f    778\n",
            "648e5bca018ffe4b6db96361d9b1a5245ee72d27e49269c38f307c05c07f7014    125\n",
            "52ebab80b30e4922e932f30f2dd0de3a66dfccdc96c92133ce409d86262cb234     92\n",
            "26c9a96ce053a14dd88a71a4830c9cbed7e1fed7e3f3f8a0b0b6a58f3f0f02e6     53\n",
            "c23682d6bdb6c3180520659f65b92ef5b93404256af9149e90671937cacf48f4     48\n",
            "f81b732a59389bd6838affaf36f9a3b6d9fe736b4e99f146571a5b1b935283e9     21\n",
            "dce81cca484053ef71096b308cb234b77b4ff19b507b7e033677c6a3827eaeef     15\n",
            "20a8c7d5a485f8bf99b43b8255c8e70f3e81d53a957f277d5c99a6831dfc8039      4\n",
            "5d6ba45ee1d5e1697ad5f130677d44a7812ad273f13d6ce06d86d647961635d7      3\n",
            "64ad95b5f35464a539b315ea092399c54149f84df9c53742dc7a2d47bad8d00e      3\n",
            "5ea2ed9b13224d64e893507a964bcd8b01da4b5a5a2fc849f1244e26ced43beb      3\n",
            "3884d73b84f2e88d36a540aa9587c500a76922cf48463d3c130917896b5fcac4      1\n",
            "ab4290bd1287b0045412d99212361598472580cda03cad053d6eda41d0519c21      1\n",
            "b35c70042fb78628e2d0e90b95b9179cb1294ca5c5dbc6ac6dd5e028673fbc90      1\n",
            "17445e8d3ac69e931c057112ab0d74da5030872bac541bd83bfa87bf1b68d1cd      1\n",
            "7b167d6e26f487683e42c6603eadbab0a14df9f3dac78c6b966153b9c5a0ea0f      1\n",
            "7665a1519d9063ed9aad694cbe7537f7e2f6cc47d6957096ecd117af918bed77      1\n",
            "dc0ca0bbe9e0e5ef9abdcf133b0936cc847d779005581136a5834267f41823bd      1\n",
            "56824d16dcb61c982fc31a731cf6f20594c0a3f1da2aff349ee804bf1c4544d1      1\n",
            "dcccf7eb694b3990811d7b91e1928100be0ff27e7dc57b9d9ba10ff718fb76ac      1\n",
            "d0ff5974b6aa52cf562bea5921840c032a860a91a3512f7fe8f768f6bbe005f6      1\n",
            "0de7cf39e1e6366122309794e86d197d025a81235881e67ec4f011c9db2df252      1\n",
            "Name: Nationality_label_encoded, dtype: int64\n",
            "------------------\n",
            "donor_or_not------------------\n",
            "1    1141\n",
            "0      15\n",
            "Name: donor_or_not, dtype: int64\n",
            "------------------\n"
          ]
        }
      ]
    },
    {
      "cell_type": "markdown",
      "source": [
        "## Preprocessing"
      ],
      "metadata": {
        "id": "bJS7TBoK7BTz"
      }
    },
    {
      "cell_type": "markdown",
      "source": [
        "Removing categorical features which show minimal variation in output variable. "
      ],
      "metadata": {
        "id": "0A-u1xxJ9wrj"
      }
    },
    {
      "cell_type": "code",
      "source": [
        "df.drop(['Is Student', 'IsAddressAvailable', 'Is Parent', 'IsPhoneAvailable', 'IsEmailAvailable',\n",
        "         'Stay with Parents', 'Has More Than 3 Kids', 'Has 2-3 Kids', 'Has 1 Kid', 'children_flag'], axis=1, inplace=True)"
      ],
      "metadata": {
        "id": "qZrkvtK7zvoy"
      },
      "execution_count": 10,
      "outputs": []
    },
    {
      "cell_type": "markdown",
      "source": [
        "Removing categorical features which show max variation in output variable"
      ],
      "metadata": {
        "id": "GwMbDt2x98wv"
      }
    },
    {
      "cell_type": "code",
      "source": [
        "df.drop(['name', 'latest_position', 'current_company'], axis=1, inplace=True)"
      ],
      "metadata": {
        "id": "rNZ5JjW-8Ltc"
      },
      "execution_count": 11,
      "outputs": []
    },
    {
      "cell_type": "markdown",
      "source": [
        "Drop \"Age, yrs_exp\" as they are numerical values and with such structure they will not be useful"
      ],
      "metadata": {
        "id": "afv-8F9mB6iG"
      }
    },
    {
      "cell_type": "code",
      "source": [
        "df.drop(['Age', 'yrs_exp'], axis=1, inplace=True)"
      ],
      "metadata": {
        "id": "pqCr61gxCJSs"
      },
      "execution_count": 12,
      "outputs": []
    },
    {
      "cell_type": "code",
      "source": [
        "df.shape"
      ],
      "metadata": {
        "colab": {
          "base_uri": "https://localhost:8080/"
        },
        "id": "O6bw2ZSmCSoI",
        "outputId": "7da3c385-9cbf-4aff-add2-8398d892904a"
      },
      "execution_count": 13,
      "outputs": [
        {
          "output_type": "execute_result",
          "data": {
            "text/plain": [
              "(1156, 12)"
            ]
          },
          "metadata": {},
          "execution_count": 13
        }
      ]
    },
    {
      "cell_type": "code",
      "source": [],
      "metadata": {
        "id": "JJA0Wj3lCn-D"
      },
      "execution_count": 13,
      "outputs": []
    },
    {
      "cell_type": "markdown",
      "source": [
        "Dropping the values that happend little because when encoding, will output sparse dataset"
      ],
      "metadata": {
        "id": "uWqS4TIwDxqr"
      }
    },
    {
      "cell_type": "code",
      "source": [
        "# select samples where the same location exist most \n",
        "df = df.loc[(df['location'] == 'ca9f6563c7614c5ef5f033c9aaa1aa21611412da771a91b9eb401bfaebabe438') | (df['location'] == 'c96dd81db196cca5f57bd4270bbb9d9e9d1b242d67f9364005ee1dfdc2632523')]\n",
        "df.shape"
      ],
      "metadata": {
        "colab": {
          "base_uri": "https://localhost:8080/"
        },
        "id": "W7Ug7txiD-LL",
        "outputId": "5ca0c692-1625-4be2-ca92-3ece13c5890d"
      },
      "execution_count": 14,
      "outputs": [
        {
          "output_type": "execute_result",
          "data": {
            "text/plain": [
              "(1065, 12)"
            ]
          },
          "metadata": {},
          "execution_count": 14
        }
      ]
    },
    {
      "cell_type": "markdown",
      "source": [
        "Drop District as it didn't provide new information than location"
      ],
      "metadata": {
        "id": "0x5zR6nRKfwg"
      }
    },
    {
      "cell_type": "code",
      "source": [
        "df.drop('District', axis=1, inplace=True)"
      ],
      "metadata": {
        "colab": {
          "base_uri": "https://localhost:8080/"
        },
        "id": "4RyxDsmIEpi7",
        "outputId": "73f34cc5-b9b9-40de-a795-8e6a1859a741"
      },
      "execution_count": 15,
      "outputs": [
        {
          "output_type": "stream",
          "name": "stderr",
          "text": [
            "/usr/local/lib/python3.8/dist-packages/pandas/core/frame.py:4906: SettingWithCopyWarning:\n",
            "\n",
            "\n",
            "A value is trying to be set on a copy of a slice from a DataFrame\n",
            "\n",
            "See the caveats in the documentation: https://pandas.pydata.org/pandas-docs/stable/user_guide/indexing.html#returning-a-view-versus-a-copy\n",
            "\n"
          ]
        }
      ]
    },
    {
      "cell_type": "code",
      "source": [
        "df.shape"
      ],
      "metadata": {
        "colab": {
          "base_uri": "https://localhost:8080/"
        },
        "id": "mi8vmsEDKeTZ",
        "outputId": "a115e1e7-83d5-4625-93d8-d592da6e9f63"
      },
      "execution_count": 16,
      "outputs": [
        {
          "output_type": "execute_result",
          "data": {
            "text/plain": [
              "(1065, 11)"
            ]
          },
          "metadata": {},
          "execution_count": 16
        }
      ]
    },
    {
      "cell_type": "markdown",
      "source": [
        "Drop \"latest_edu_place\" because latest_edu_qual provide enough information also it has more balanced values "
      ],
      "metadata": {
        "id": "l_5qtD8WL2Mv"
      }
    },
    {
      "cell_type": "code",
      "source": [
        "df.drop('latest_edu_place', axis=1, inplace=True)"
      ],
      "metadata": {
        "id": "dKP0YEz9KtnF"
      },
      "execution_count": 17,
      "outputs": []
    },
    {
      "cell_type": "code",
      "source": [
        "# select the most repeated Nationality_label_encoded\n",
        "df = df.loc[(df['Nationality_label_encoded'] == '1f4d86b1e0415f97659988ec13c7753c4bffc5f95d373c3937394ec6ae2c929f') |\n",
        "        (df['Nationality_label_encoded'] == '648e5bca018ffe4b6db96361d9b1a5245ee72d27e49269c38f307c05c07f7014') |\n",
        "        (df['Nationality_label_encoded'] == '52ebab80b30e4922e932f30f2dd0de3a66dfccdc96c92133ce409d86262cb234') |\n",
        "        (df['Nationality_label_encoded'] == '26c9a96ce053a14dd88a71a4830c9cbed7e1fed7e3f3f8a0b0b6a58f3f0f02e6') |\n",
        "        (df['Nationality_label_encoded'] == 'c23682d6bdb6c3180520659f65b92ef5b93404256af9149e90671937cacf48f4')]"
      ],
      "metadata": {
        "id": "YGC0srZsL1k2"
      },
      "execution_count": 18,
      "outputs": []
    },
    {
      "cell_type": "code",
      "source": [
        "df.shape"
      ],
      "metadata": {
        "colab": {
          "base_uri": "https://localhost:8080/"
        },
        "id": "XOvgq0UpNcd6",
        "outputId": "9b8208b7-ed6d-4c8d-848f-35070803b5d2"
      },
      "execution_count": 19,
      "outputs": [
        {
          "output_type": "execute_result",
          "data": {
            "text/plain": [
              "(1017, 10)"
            ]
          },
          "metadata": {},
          "execution_count": 19
        }
      ]
    },
    {
      "cell_type": "code",
      "source": [
        "df = df.loc[df['Marital status_label_encoded'] != '8aed642bf5118b9d3c859bd4be35ecac75b6e873cce34e7b6f554b06f75550d7']\n",
        "df.shape"
      ],
      "metadata": {
        "colab": {
          "base_uri": "https://localhost:8080/"
        },
        "id": "iPT5_yDcPGoq",
        "outputId": "00cca208-8d4e-4a79-e858-49b817e8f0e9"
      },
      "execution_count": 20,
      "outputs": [
        {
          "output_type": "execute_result",
          "data": {
            "text/plain": [
              "(1015, 10)"
            ]
          },
          "metadata": {},
          "execution_count": 20
        }
      ]
    },
    {
      "cell_type": "code",
      "source": [
        "df.columns"
      ],
      "metadata": {
        "colab": {
          "base_uri": "https://localhost:8080/"
        },
        "id": "tB6GGs6xRHSu",
        "outputId": "14388035-8438-4e3c-e4b9-531c8613e338"
      },
      "execution_count": 21,
      "outputs": [
        {
          "output_type": "execute_result",
          "data": {
            "text/plain": [
              "Index(['location', 'latest_edu_qual', 'volunteer_flag', 'Alum Family',\n",
              "       'Is Alumnus', 'Is Staff', 'Marital status_label_encoded',\n",
              "       'Gender_label_encoded', 'Nationality_label_encoded', 'donor_or_not'],\n",
              "      dtype='object')"
            ]
          },
          "metadata": {},
          "execution_count": 21
        }
      ]
    },
    {
      "cell_type": "markdown",
      "source": [
        "\n",
        "\n",
        "*   Convert string columns to category \n",
        "*   encode columns to numeric values\n",
        "\n"
      ],
      "metadata": {
        "id": "RhE1GjbgRr6u"
      }
    },
    {
      "cell_type": "code",
      "source": [
        "cols = ['location', 'latest_edu_qual', 'volunteer_flag', 'Alum Family','Is Alumnus', 'Is Staff', \n",
        "    'Marital status_label_encoded', 'Gender_label_encoded', 'Nationality_label_encoded']\n",
        "     \n",
        "df[cols] = df[cols].astype('category')\n",
        "df[cols] = df[cols].apply(lambda x: x.cat.codes)"
      ],
      "metadata": {
        "id": "XIXTOACVMkeX"
      },
      "execution_count": 23,
      "outputs": []
    },
    {
      "cell_type": "code",
      "source": [
        "df.head()"
      ],
      "metadata": {
        "colab": {
          "base_uri": "https://localhost:8080/",
          "height": 287
        },
        "id": "7oIXjunlRGSU",
        "outputId": "8ccb730e-679d-4ed3-b2d3-d053e44ccf84"
      },
      "execution_count": 24,
      "outputs": [
        {
          "output_type": "execute_result",
          "data": {
            "text/plain": [
              "   location  latest_edu_qual  volunteer_flag  Alum Family  Is Alumnus  \\\n",
              "2         1                1               1            0           0   \n",
              "4         1                3               1            1           1   \n",
              "7         1                0               0            1           1   \n",
              "8         1                0               1            0           0   \n",
              "9         1                3               0            0           1   \n",
              "\n",
              "   Is Staff  Marital status_label_encoded  Gender_label_encoded  \\\n",
              "2         0                             2                     0   \n",
              "4         0                             1                     1   \n",
              "7         0                             2                     0   \n",
              "8         0                             0                     1   \n",
              "9         0                             2                     1   \n",
              "\n",
              "   Nationality_label_encoded  donor_or_not  \n",
              "2                          3             1  \n",
              "4                          0             1  \n",
              "7                          1             1  \n",
              "8                          3             1  \n",
              "9                          0             1  "
            ],
            "text/html": [
              "\n",
              "  <div id=\"df-09944867-f978-4d91-beec-b7fcb5dac452\">\n",
              "    <div class=\"colab-df-container\">\n",
              "      <div>\n",
              "<style scoped>\n",
              "    .dataframe tbody tr th:only-of-type {\n",
              "        vertical-align: middle;\n",
              "    }\n",
              "\n",
              "    .dataframe tbody tr th {\n",
              "        vertical-align: top;\n",
              "    }\n",
              "\n",
              "    .dataframe thead th {\n",
              "        text-align: right;\n",
              "    }\n",
              "</style>\n",
              "<table border=\"1\" class=\"dataframe\">\n",
              "  <thead>\n",
              "    <tr style=\"text-align: right;\">\n",
              "      <th></th>\n",
              "      <th>location</th>\n",
              "      <th>latest_edu_qual</th>\n",
              "      <th>volunteer_flag</th>\n",
              "      <th>Alum Family</th>\n",
              "      <th>Is Alumnus</th>\n",
              "      <th>Is Staff</th>\n",
              "      <th>Marital status_label_encoded</th>\n",
              "      <th>Gender_label_encoded</th>\n",
              "      <th>Nationality_label_encoded</th>\n",
              "      <th>donor_or_not</th>\n",
              "    </tr>\n",
              "  </thead>\n",
              "  <tbody>\n",
              "    <tr>\n",
              "      <th>2</th>\n",
              "      <td>1</td>\n",
              "      <td>1</td>\n",
              "      <td>1</td>\n",
              "      <td>0</td>\n",
              "      <td>0</td>\n",
              "      <td>0</td>\n",
              "      <td>2</td>\n",
              "      <td>0</td>\n",
              "      <td>3</td>\n",
              "      <td>1</td>\n",
              "    </tr>\n",
              "    <tr>\n",
              "      <th>4</th>\n",
              "      <td>1</td>\n",
              "      <td>3</td>\n",
              "      <td>1</td>\n",
              "      <td>1</td>\n",
              "      <td>1</td>\n",
              "      <td>0</td>\n",
              "      <td>1</td>\n",
              "      <td>1</td>\n",
              "      <td>0</td>\n",
              "      <td>1</td>\n",
              "    </tr>\n",
              "    <tr>\n",
              "      <th>7</th>\n",
              "      <td>1</td>\n",
              "      <td>0</td>\n",
              "      <td>0</td>\n",
              "      <td>1</td>\n",
              "      <td>1</td>\n",
              "      <td>0</td>\n",
              "      <td>2</td>\n",
              "      <td>0</td>\n",
              "      <td>1</td>\n",
              "      <td>1</td>\n",
              "    </tr>\n",
              "    <tr>\n",
              "      <th>8</th>\n",
              "      <td>1</td>\n",
              "      <td>0</td>\n",
              "      <td>1</td>\n",
              "      <td>0</td>\n",
              "      <td>0</td>\n",
              "      <td>0</td>\n",
              "      <td>0</td>\n",
              "      <td>1</td>\n",
              "      <td>3</td>\n",
              "      <td>1</td>\n",
              "    </tr>\n",
              "    <tr>\n",
              "      <th>9</th>\n",
              "      <td>1</td>\n",
              "      <td>3</td>\n",
              "      <td>0</td>\n",
              "      <td>0</td>\n",
              "      <td>1</td>\n",
              "      <td>0</td>\n",
              "      <td>2</td>\n",
              "      <td>1</td>\n",
              "      <td>0</td>\n",
              "      <td>1</td>\n",
              "    </tr>\n",
              "  </tbody>\n",
              "</table>\n",
              "</div>\n",
              "      <button class=\"colab-df-convert\" onclick=\"convertToInteractive('df-09944867-f978-4d91-beec-b7fcb5dac452')\"\n",
              "              title=\"Convert this dataframe to an interactive table.\"\n",
              "              style=\"display:none;\">\n",
              "        \n",
              "  <svg xmlns=\"http://www.w3.org/2000/svg\" height=\"24px\"viewBox=\"0 0 24 24\"\n",
              "       width=\"24px\">\n",
              "    <path d=\"M0 0h24v24H0V0z\" fill=\"none\"/>\n",
              "    <path d=\"M18.56 5.44l.94 2.06.94-2.06 2.06-.94-2.06-.94-.94-2.06-.94 2.06-2.06.94zm-11 1L8.5 8.5l.94-2.06 2.06-.94-2.06-.94L8.5 2.5l-.94 2.06-2.06.94zm10 10l.94 2.06.94-2.06 2.06-.94-2.06-.94-.94-2.06-.94 2.06-2.06.94z\"/><path d=\"M17.41 7.96l-1.37-1.37c-.4-.4-.92-.59-1.43-.59-.52 0-1.04.2-1.43.59L10.3 9.45l-7.72 7.72c-.78.78-.78 2.05 0 2.83L4 21.41c.39.39.9.59 1.41.59.51 0 1.02-.2 1.41-.59l7.78-7.78 2.81-2.81c.8-.78.8-2.07 0-2.86zM5.41 20L4 18.59l7.72-7.72 1.47 1.35L5.41 20z\"/>\n",
              "  </svg>\n",
              "      </button>\n",
              "      \n",
              "  <style>\n",
              "    .colab-df-container {\n",
              "      display:flex;\n",
              "      flex-wrap:wrap;\n",
              "      gap: 12px;\n",
              "    }\n",
              "\n",
              "    .colab-df-convert {\n",
              "      background-color: #E8F0FE;\n",
              "      border: none;\n",
              "      border-radius: 50%;\n",
              "      cursor: pointer;\n",
              "      display: none;\n",
              "      fill: #1967D2;\n",
              "      height: 32px;\n",
              "      padding: 0 0 0 0;\n",
              "      width: 32px;\n",
              "    }\n",
              "\n",
              "    .colab-df-convert:hover {\n",
              "      background-color: #E2EBFA;\n",
              "      box-shadow: 0px 1px 2px rgba(60, 64, 67, 0.3), 0px 1px 3px 1px rgba(60, 64, 67, 0.15);\n",
              "      fill: #174EA6;\n",
              "    }\n",
              "\n",
              "    [theme=dark] .colab-df-convert {\n",
              "      background-color: #3B4455;\n",
              "      fill: #D2E3FC;\n",
              "    }\n",
              "\n",
              "    [theme=dark] .colab-df-convert:hover {\n",
              "      background-color: #434B5C;\n",
              "      box-shadow: 0px 1px 3px 1px rgba(0, 0, 0, 0.15);\n",
              "      filter: drop-shadow(0px 1px 2px rgba(0, 0, 0, 0.3));\n",
              "      fill: #FFFFFF;\n",
              "    }\n",
              "  </style>\n",
              "\n",
              "      <script>\n",
              "        const buttonEl =\n",
              "          document.querySelector('#df-09944867-f978-4d91-beec-b7fcb5dac452 button.colab-df-convert');\n",
              "        buttonEl.style.display =\n",
              "          google.colab.kernel.accessAllowed ? 'block' : 'none';\n",
              "\n",
              "        async function convertToInteractive(key) {\n",
              "          const element = document.querySelector('#df-09944867-f978-4d91-beec-b7fcb5dac452');\n",
              "          const dataTable =\n",
              "            await google.colab.kernel.invokeFunction('convertToInteractive',\n",
              "                                                     [key], {});\n",
              "          if (!dataTable) return;\n",
              "\n",
              "          const docLinkHtml = 'Like what you see? Visit the ' +\n",
              "            '<a target=\"_blank\" href=https://colab.research.google.com/notebooks/data_table.ipynb>data table notebook</a>'\n",
              "            + ' to learn more about interactive tables.';\n",
              "          element.innerHTML = '';\n",
              "          dataTable['output_type'] = 'display_data';\n",
              "          await google.colab.output.renderOutput(dataTable, element);\n",
              "          const docLink = document.createElement('div');\n",
              "          docLink.innerHTML = docLinkHtml;\n",
              "          element.appendChild(docLink);\n",
              "        }\n",
              "      </script>\n",
              "    </div>\n",
              "  </div>\n",
              "  "
            ]
          },
          "metadata": {},
          "execution_count": 24
        }
      ]
    },
    {
      "cell_type": "code",
      "source": [
        "corr = df.corr()\n",
        "# plot the heatmap\n",
        "fig = plt.figure(figsize=(10, 10))\n",
        "sns.heatmap(corr, xticklabels=corr.columns,yticklabels=corr.columns, annot= True)"
      ],
      "metadata": {
        "colab": {
          "base_uri": "https://localhost:8080/",
          "height": 748
        },
        "id": "o1SnhCc8b-1k",
        "outputId": "1d1b0eca-d619-4913-9cb2-11546ddeadd2"
      },
      "execution_count": 47,
      "outputs": [
        {
          "output_type": "execute_result",
          "data": {
            "text/plain": [
              "<matplotlib.axes._subplots.AxesSubplot at 0x7f704bd71400>"
            ]
          },
          "metadata": {},
          "execution_count": 47
        },
        {
          "output_type": "display_data",
          "data": {
            "text/plain": [
              "<Figure size 720x720 with 2 Axes>"
            ],
            "image/png": "[encoded data removed]"
          },
          "metadata": {
            "needs_background": "light"
          }
        }
      ]
    },
    {
      "cell_type": "code",
      "source": [
        "df.info()"
      ],
      "metadata": {
        "colab": {
          "base_uri": "https://localhost:8080/"
        },
        "id": "i60yT5rbNOZR",
        "outputId": "2c9d0d29-04d9-4571-f64d-2a1a22d03fce"
      },
      "execution_count": 25,
      "outputs": [
        {
          "output_type": "stream",
          "name": "stdout",
          "text": [
            "<class 'pandas.core.frame.DataFrame'>\n",
            "Int64Index: 1015 entries, 2 to 1157\n",
            "Data columns (total 10 columns):\n",
            " #   Column                        Non-Null Count  Dtype\n",
            "---  ------                        --------------  -----\n",
            " 0   location                      1015 non-null   int8 \n",
            " 1   latest_edu_qual               1015 non-null   int8 \n",
            " 2   volunteer_flag                1015 non-null   int8 \n",
            " 3   Alum Family                   1015 non-null   int8 \n",
            " 4   Is Alumnus                    1015 non-null   int8 \n",
            " 5   Is Staff                      1015 non-null   int8 \n",
            " 6   Marital status_label_encoded  1015 non-null   int8 \n",
            " 7   Gender_label_encoded          1015 non-null   int8 \n",
            " 8   Nationality_label_encoded     1015 non-null   int8 \n",
            " 9   donor_or_not                  1015 non-null   int64\n",
            "dtypes: int64(1), int8(9)\n",
            "memory usage: 24.8 KB\n"
          ]
        }
      ]
    },
    {
      "cell_type": "markdown",
      "source": [
        "## Split Data\n",
        "\n",
        "split data to train and test (%80, %20) respectively\n",
        "and strafify on y so that it is representitive  "
      ],
      "metadata": {
        "id": "CJX7RIHIU0zF"
      }
    },
    {
      "cell_type": "code",
      "source": [
        "X = df.drop('donor_or_not', axis =1)\n",
        "y = df['donor_or_not']\n",
        "\n",
        "X_train, X_test, y_train, y_test = train_test_split(X, y, test_size=.2, stratify=y, random_state=42)\n",
        "X_train.shape, X_test.shape, y_train.shape, y_test.shape"
      ],
      "metadata": {
        "colab": {
          "base_uri": "https://localhost:8080/"
        },
        "id": "eliTok6qU2hz",
        "outputId": "464e61ca-ac38-4415-f667-86e7745f0085"
      },
      "execution_count": 27,
      "outputs": [
        {
          "output_type": "execute_result",
          "data": {
            "text/plain": [
              "((812, 9), (203, 9), (812,), (203,))"
            ]
          },
          "metadata": {},
          "execution_count": 27
        }
      ]
    },
    {
      "cell_type": "markdown",
      "source": [
        "## Building model\n",
        "\n",
        "\n",
        "using XGBoost with binary objective as I have only to have values in the target column (1, 0)"
      ],
      "metadata": {
        "id": "ZRTVq3swXXJ9"
      }
    },
    {
      "cell_type": "code",
      "source": [
        "xgb = XGBClassifier(n_estimators=2, max_depth=2, learning_rate=1, objective='binary:logistic')"
      ],
      "metadata": {
        "id": "766URremWiqf"
      },
      "execution_count": 28,
      "outputs": []
    },
    {
      "cell_type": "code",
      "source": [
        "xgb.fit(X_train, y_train)\n",
        "# make predictions\n",
        "pred = xgb.predict(X_test)"
      ],
      "metadata": {
        "id": "o6AVXD-QWmId"
      },
      "execution_count": 29,
      "outputs": []
    },
    {
      "cell_type": "markdown",
      "source": [
        "## Evaluation "
      ],
      "metadata": {
        "id": "-mKSldchTX2q"
      }
    },
    {
      "cell_type": "code",
      "source": [
        "f1_score(y_test, pred)"
      ],
      "metadata": {
        "colab": {
          "base_uri": "https://localhost:8080/"
        },
        "id": "dOGIGDuIZcBn",
        "outputId": "234badfa-6ed2-453b-a418-d8ad97d1084b"
      },
      "execution_count": 30,
      "outputs": [
        {
          "output_type": "execute_result",
          "data": {
            "text/plain": [
              "0.995049504950495"
            ]
          },
          "metadata": {},
          "execution_count": 30
        }
      ]
    },
    {
      "cell_type": "code",
      "source": [
        "cm = confusion_matrix(y_test, pred)\n",
        "sns.heatmap(cm, annot= True, annot_kws={\"size\": 16}, fmt='g')"
      ],
      "metadata": {
        "colab": {
          "base_uri": "https://localhost:8080/",
          "height": 285
        },
        "id": "Zkwp4_iZZwJ7",
        "outputId": "2d3f93ef-e6f9-4627-b114-a9c81266c826"
      },
      "execution_count": 38,
      "outputs": [
        {
          "output_type": "execute_result",
          "data": {
            "text/plain": [
              "<matplotlib.axes._subplots.AxesSubplot at 0x7f704da9cbb0>"
            ]
          },
          "metadata": {},
          "execution_count": 38
        },
        {
          "output_type": "display_data",
          "data": {
            "text/plain": [
              "<Figure size 432x288 with 2 Axes>"
            ],
            "image/png": "[encoded data removed]"
          },
          "metadata": {
            "needs_background": "light"
          }
        }
      ]
    },
    {
      "cell_type": "markdown",
      "source": [
        "## Conclusion"
      ],
      "metadata": {
        "id": "PV7m01h2jNWU"
      }
    },
    {
      "cell_type": "markdown",
      "source": [
        "\n",
        "\n",
        "*   because the data was imbalance it was hard to tell whether the models would perform with the same accuracy in the real world.\n",
        "*   the number of not donate is much much lower than the ones who donate   \n",
        "\n",
        "\n",
        "*   even with a dumb model that always predict person as a donator, the model would have a high accuracy \n",
        "\n",
        "\n",
        "### suggestion:\n",
        " we have to gather more data about people who didn't donate because this would give model chance to find patterns about people who didn't donate.   \n",
        "\n",
        "\n"
      ],
      "metadata": {
        "id": "tXMG0ZTPjRHC"
      }
    },
    {
      "cell_type": "code",
      "source": [],
      "metadata": {
        "id": "cczcDY3lj69U"
      },
      "execution_count": null,
      "outputs": []
    }
  ],
  "metadata": {
    "colab": {
      "provenance": []
    },
    "kernelspec": {
      "display_name": "Python 3",
      "name": "python3"
    }
  },
  "nbformat": 4,
  "nbformat_minor": 0
}